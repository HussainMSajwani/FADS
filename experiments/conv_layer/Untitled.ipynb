{
 "cells": [
  {
   "cell_type": "code",
   "execution_count": 38,
   "id": "669d2997",
   "metadata": {},
   "outputs": [],
   "source": [
    "from FADS_SRP.input import get_dsets_\n",
    "import tensorflow as tf\n",
    "import numpy as np\n",
    "\n",
    "X_train = dset[\"X_train\"].reshape(dset[\"X_train\"].shape[0], dset[\"X_train\"].shape[1], 1)"
   ]
  },
  {
   "cell_type": "code",
   "execution_count": 155,
   "id": "c250f69b",
   "metadata": {},
   "outputs": [],
   "source": [
    "dset = get_dsets_(\"/home/shussain/Simulated_data/29062021/0.5/simulation_output1/PS/output/\")"
   ]
  },
  {
   "cell_type": "code",
   "execution_count": 156,
   "id": "8a377c0f",
   "metadata": {},
   "outputs": [],
   "source": [
    "from sklearn.decomposition import PCA\n",
    "\n",
    "pca = PCA(2)\n",
    "pcs = pca.fit_transform(dset[\"X_train\"])"
   ]
  },
  {
   "cell_type": "code",
   "execution_count": 157,
   "id": "37640dcb",
   "metadata": {},
   "outputs": [
    {
     "data": {
      "text/plain": [
       "<matplotlib.collections.PathCollection at 0x7fb92c388110>"
      ]
     },
     "execution_count": 157,
     "metadata": {},
     "output_type": "execute_result"
    },
    {
     "data": {
      "image/png": "[encoded data removed]",
      "text/plain": [
       "<Figure size 432x288 with 1 Axes>"
      ]
     },
     "metadata": {
      "needs_background": "light"
     },
     "output_type": "display_data"
    }
   ],
   "source": [
    "plt.scatter(pcs[:, 0], pcs[:, 1])"
   ]
  },
  {
   "cell_type": "code",
   "execution_count": 143,
   "id": "cc902e13",
   "metadata": {},
   "outputs": [],
   "source": [
    "Input = tf.keras.Input((1000, 1))\n",
    "conv = tf.keras.layers.Conv1D(1, 70, 5)(Input)\n",
    "conv = tf.keras.layers.Flatten(name=\"regions\")(conv)\n",
    "clf = tf.keras.layers.Dense(2, activation=\"sigmoid\")(conv)\n",
    "model = tf.keras.Model(inputs=Input, outputs=clf)"
   ]
  },
  {
   "cell_type": "code",
   "execution_count": 144,
   "id": "2f25763c",
   "metadata": {},
   "outputs": [
    {
     "name": "stdout",
     "output_type": "stream",
     "text": [
      "Model: \"model_11\"\n",
      "_________________________________________________________________\n",
      "Layer (type)                 Output Shape              Param #   \n",
      "=================================================================\n",
      "input_26 (InputLayer)        [(None, 1000, 1)]         0         \n",
      "_________________________________________________________________\n",
      "conv1d_28 (Conv1D)           (None, 187, 1)            71        \n",
      "_________________________________________________________________\n",
      "regions (Flatten)            (None, 187)               0         \n",
      "_________________________________________________________________\n",
      "dense_25 (Dense)             (None, 2)                 376       \n",
      "=================================================================\n",
      "Total params: 447\n",
      "Trainable params: 447\n",
      "Non-trainable params: 0\n",
      "_________________________________________________________________\n"
     ]
    }
   ],
   "source": [
    "model.compile(loss=tf.keras.losses.BinaryCrossentropy(), metrics=[tf.keras.metrics.AUC()])\n",
    "model.summary()"
   ]
  },
  {
   "cell_type": "code",
   "execution_count": 138,
   "id": "8e1de530",
   "metadata": {},
   "outputs": [
    {
     "name": "stdout",
     "output_type": "stream",
     "text": [
      "Epoch 1/100\n",
      "12/12 [==============================] - 0s 36ms/step - loss: 0.8185 - auc_10: 0.4915 - val_loss: 0.7789 - val_auc_10: 0.4856\n",
      "Epoch 2/100\n",
      "12/12 [==============================] - 0s 8ms/step - loss: 0.7595 - auc_10: 0.4999 - val_loss: 0.7704 - val_auc_10: 0.4871\n",
      "Epoch 3/100\n",
      "12/12 [==============================] - 0s 9ms/step - loss: 0.7532 - auc_10: 0.5079 - val_loss: 0.7606 - val_auc_10: 0.4960\n",
      "Epoch 4/100\n",
      "12/12 [==============================] - 0s 8ms/step - loss: 0.7419 - auc_10: 0.5156 - val_loss: 0.7534 - val_auc_10: 0.5005\n",
      "Epoch 5/100\n",
      "12/12 [==============================] - 0s 8ms/step - loss: 0.7334 - auc_10: 0.5277 - val_loss: 0.7448 - val_auc_10: 0.5056\n",
      "Epoch 6/100\n",
      "12/12 [==============================] - 0s 8ms/step - loss: 0.7266 - auc_10: 0.5354 - val_loss: 0.7381 - val_auc_10: 0.5123\n",
      "Epoch 7/100\n",
      "12/12 [==============================] - 0s 8ms/step - loss: 0.7180 - auc_10: 0.5456 - val_loss: 0.7338 - val_auc_10: 0.5182\n",
      "Epoch 8/100\n",
      "12/12 [==============================] - 0s 8ms/step - loss: 0.7124 - auc_10: 0.5522 - val_loss: 0.7268 - val_auc_10: 0.5234\n",
      "Epoch 9/100\n",
      "12/12 [==============================] - 0s 9ms/step - loss: 0.7024 - auc_10: 0.5675 - val_loss: 0.7253 - val_auc_10: 0.5295\n",
      "Epoch 10/100\n",
      "12/12 [==============================] - 0s 8ms/step - loss: 0.6988 - auc_10: 0.5771 - val_loss: 0.7177 - val_auc_10: 0.5333\n",
      "Epoch 11/100\n",
      "12/12 [==============================] - 0s 8ms/step - loss: 0.6931 - auc_10: 0.5863 - val_loss: 0.7134 - val_auc_10: 0.5375\n",
      "Epoch 12/100\n",
      "12/12 [==============================] - 0s 9ms/step - loss: 0.6875 - auc_10: 0.5955 - val_loss: 0.7098 - val_auc_10: 0.5435\n",
      "Epoch 13/100\n",
      "12/12 [==============================] - 0s 8ms/step - loss: 0.6820 - auc_10: 0.6051 - val_loss: 0.7065 - val_auc_10: 0.5503\n",
      "Epoch 14/100\n",
      "12/12 [==============================] - 0s 8ms/step - loss: 0.6761 - auc_10: 0.6185 - val_loss: 0.7069 - val_auc_10: 0.5582\n",
      "Epoch 15/100\n",
      "12/12 [==============================] - 0s 8ms/step - loss: 0.6738 - auc_10: 0.6233 - val_loss: 0.7043 - val_auc_10: 0.5605\n",
      "Epoch 16/100\n",
      "12/12 [==============================] - 0s 8ms/step - loss: 0.6669 - auc_10: 0.6379 - val_loss: 0.7015 - val_auc_10: 0.5664\n",
      "Epoch 17/100\n",
      "12/12 [==============================] - 0s 8ms/step - loss: 0.6632 - auc_10: 0.6452 - val_loss: 0.6965 - val_auc_10: 0.5703\n",
      "Epoch 18/100\n",
      "12/12 [==============================] - 0s 8ms/step - loss: 0.6587 - auc_10: 0.6538 - val_loss: 0.6939 - val_auc_10: 0.5754\n",
      "Epoch 19/100\n",
      "12/12 [==============================] - 0s 9ms/step - loss: 0.6539 - auc_10: 0.6641 - val_loss: 0.6923 - val_auc_10: 0.5820\n",
      "Epoch 20/100\n",
      "12/12 [==============================] - 0s 9ms/step - loss: 0.6508 - auc_10: 0.6687 - val_loss: 0.6898 - val_auc_10: 0.5848\n",
      "Epoch 21/100\n",
      "12/12 [==============================] - 0s 8ms/step - loss: 0.6449 - auc_10: 0.6846 - val_loss: 0.6927 - val_auc_10: 0.5916\n",
      "Epoch 22/100\n",
      "12/12 [==============================] - 0s 8ms/step - loss: 0.6428 - auc_10: 0.6864 - val_loss: 0.6862 - val_auc_10: 0.5950\n",
      "Epoch 23/100\n",
      "12/12 [==============================] - 0s 8ms/step - loss: 0.6393 - auc_10: 0.6949 - val_loss: 0.6866 - val_auc_10: 0.5984\n",
      "Epoch 24/100\n",
      "12/12 [==============================] - 0s 8ms/step - loss: 0.6348 - auc_10: 0.7021 - val_loss: 0.6851 - val_auc_10: 0.6034\n",
      "Epoch 25/100\n",
      "12/12 [==============================] - 0s 8ms/step - loss: 0.6295 - auc_10: 0.7107 - val_loss: 0.6829 - val_auc_10: 0.6081\n",
      "Epoch 26/100\n",
      "12/12 [==============================] - 0s 8ms/step - loss: 0.6250 - auc_10: 0.7162 - val_loss: 0.6808 - val_auc_10: 0.6029\n",
      "Epoch 27/100\n",
      "12/12 [==============================] - 0s 9ms/step - loss: 0.6245 - auc_10: 0.7202 - val_loss: 0.6807 - val_auc_10: 0.6139\n",
      "Epoch 28/100\n",
      "12/12 [==============================] - 0s 8ms/step - loss: 0.6201 - auc_10: 0.7259 - val_loss: 0.6784 - val_auc_10: 0.6192\n",
      "Epoch 29/100\n",
      "12/12 [==============================] - 0s 9ms/step - loss: 0.6142 - auc_10: 0.7331 - val_loss: 0.6759 - val_auc_10: 0.6173\n",
      "Epoch 30/100\n",
      "12/12 [==============================] - 0s 8ms/step - loss: 0.6115 - auc_10: 0.7371 - val_loss: 0.6750 - val_auc_10: 0.6240\n",
      "Epoch 31/100\n",
      "12/12 [==============================] - 0s 8ms/step - loss: 0.6103 - auc_10: 0.7403 - val_loss: 0.6737 - val_auc_10: 0.6268\n",
      "Epoch 32/100\n",
      "12/12 [==============================] - 0s 8ms/step - loss: 0.6049 - auc_10: 0.7487 - val_loss: 0.6718 - val_auc_10: 0.6283\n",
      "Epoch 33/100\n",
      "12/12 [==============================] - 0s 8ms/step - loss: 0.6039 - auc_10: 0.7501 - val_loss: 0.6726 - val_auc_10: 0.6306\n",
      "Epoch 34/100\n",
      "12/12 [==============================] - 0s 8ms/step - loss: 0.5975 - auc_10: 0.7580 - val_loss: 0.6696 - val_auc_10: 0.6355\n",
      "Epoch 35/100\n",
      "12/12 [==============================] - 0s 8ms/step - loss: 0.5944 - auc_10: 0.7619 - val_loss: 0.6673 - val_auc_10: 0.6382\n",
      "Epoch 36/100\n",
      "12/12 [==============================] - 0s 8ms/step - loss: 0.5923 - auc_10: 0.7620 - val_loss: 0.6662 - val_auc_10: 0.6405\n",
      "Epoch 37/100\n",
      "12/12 [==============================] - 0s 8ms/step - loss: 0.5866 - auc_10: 0.7721 - val_loss: 0.6671 - val_auc_10: 0.6409\n",
      "Epoch 38/100\n",
      "12/12 [==============================] - 0s 8ms/step - loss: 0.5837 - auc_10: 0.7735 - val_loss: 0.6639 - val_auc_10: 0.6487\n",
      "Epoch 39/100\n",
      "12/12 [==============================] - 0s 9ms/step - loss: 0.5819 - auc_10: 0.7754 - val_loss: 0.6635 - val_auc_10: 0.6501\n",
      "Epoch 40/100\n",
      "12/12 [==============================] - 0s 8ms/step - loss: 0.5781 - auc_10: 0.7807 - val_loss: 0.6632 - val_auc_10: 0.6525\n",
      "Epoch 41/100\n",
      "12/12 [==============================] - 0s 8ms/step - loss: 0.5736 - auc_10: 0.7842 - val_loss: 0.6645 - val_auc_10: 0.6518\n",
      "Epoch 42/100\n",
      "12/12 [==============================] - 0s 8ms/step - loss: 0.5696 - auc_10: 0.7883 - val_loss: 0.6583 - val_auc_10: 0.6552\n",
      "Epoch 43/100\n",
      "12/12 [==============================] - 0s 8ms/step - loss: 0.5644 - auc_10: 0.7947 - val_loss: 0.6646 - val_auc_10: 0.6533\n",
      "Epoch 44/100\n",
      "12/12 [==============================] - 0s 8ms/step - loss: 0.5621 - auc_10: 0.7969 - val_loss: 0.6559 - val_auc_10: 0.6598\n",
      "Epoch 45/100\n",
      "12/12 [==============================] - 0s 8ms/step - loss: 0.5587 - auc_10: 0.8026 - val_loss: 0.6670 - val_auc_10: 0.6532\n",
      "Epoch 46/100\n",
      "12/12 [==============================] - 0s 8ms/step - loss: 0.5573 - auc_10: 0.7987 - val_loss: 0.6553 - val_auc_10: 0.6638\n",
      "Epoch 47/100\n",
      "12/12 [==============================] - 0s 8ms/step - loss: 0.5516 - auc_10: 0.8059 - val_loss: 0.6522 - val_auc_10: 0.6656\n",
      "Epoch 48/100\n",
      "12/12 [==============================] - 0s 8ms/step - loss: 0.5506 - auc_10: 0.8077 - val_loss: 0.6530 - val_auc_10: 0.6683\n",
      "Epoch 49/100\n",
      "12/12 [==============================] - 0s 9ms/step - loss: 0.5457 - auc_10: 0.8116 - val_loss: 0.6629 - val_auc_10: 0.6623\n",
      "Epoch 50/100\n",
      "12/12 [==============================] - 0s 8ms/step - loss: 0.5486 - auc_10: 0.8053 - val_loss: 0.6508 - val_auc_10: 0.6698\n",
      "Epoch 51/100\n",
      "12/12 [==============================] - 0s 8ms/step - loss: 0.5426 - auc_10: 0.8152 - val_loss: 0.6502 - val_auc_10: 0.6712\n",
      "Epoch 52/100\n",
      "12/12 [==============================] - 0s 8ms/step - loss: 0.5378 - auc_10: 0.8182 - val_loss: 0.6485 - val_auc_10: 0.6735\n",
      "Epoch 53/100\n",
      "12/12 [==============================] - 0s 8ms/step - loss: 0.5354 - auc_10: 0.8210 - val_loss: 0.6495 - val_auc_10: 0.6737\n",
      "Epoch 54/100\n",
      "12/12 [==============================] - 0s 8ms/step - loss: 0.5293 - auc_10: 0.8240 - val_loss: 0.6466 - val_auc_10: 0.6740\n",
      "Epoch 55/100\n",
      "12/12 [==============================] - 0s 8ms/step - loss: 0.5308 - auc_10: 0.8240 - val_loss: 0.6563 - val_auc_10: 0.6736\n",
      "Epoch 56/100\n",
      "12/12 [==============================] - 0s 8ms/step - loss: 0.5259 - auc_10: 0.8263 - val_loss: 0.6443 - val_auc_10: 0.6795\n",
      "Epoch 57/100\n",
      "12/12 [==============================] - 0s 8ms/step - loss: 0.5211 - auc_10: 0.8323 - val_loss: 0.6497 - val_auc_10: 0.6803\n",
      "Epoch 58/100\n",
      "12/12 [==============================] - 0s 8ms/step - loss: 0.5226 - auc_10: 0.8310 - val_loss: 0.6508 - val_auc_10: 0.6793\n",
      "Epoch 59/100\n",
      "12/12 [==============================] - 0s 9ms/step - loss: 0.5173 - auc_10: 0.8347 - val_loss: 0.6421 - val_auc_10: 0.6838\n",
      "Epoch 60/100\n",
      "12/12 [==============================] - 0s 8ms/step - loss: 0.5150 - auc_10: 0.8361 - val_loss: 0.6477 - val_auc_10: 0.6837\n",
      "Epoch 61/100\n",
      "12/12 [==============================] - 0s 8ms/step - loss: 0.5127 - auc_10: 0.8347 - val_loss: 0.6412 - val_auc_10: 0.6872\n",
      "Epoch 62/100\n",
      "12/12 [==============================] - 0s 8ms/step - loss: 0.5106 - auc_10: 0.8388 - val_loss: 0.6415 - val_auc_10: 0.6878\n",
      "Epoch 63/100\n",
      "12/12 [==============================] - 0s 8ms/step - loss: 0.5063 - auc_10: 0.8439 - val_loss: 0.6388 - val_auc_10: 0.6899\n",
      "Epoch 64/100\n",
      "12/12 [==============================] - 0s 8ms/step - loss: 0.5047 - auc_10: 0.8443 - val_loss: 0.6468 - val_auc_10: 0.6870\n",
      "Epoch 65/100\n",
      "12/12 [==============================] - 0s 8ms/step - loss: 0.5030 - auc_10: 0.8440 - val_loss: 0.6422 - val_auc_10: 0.6904\n",
      "Epoch 66/100\n",
      "12/12 [==============================] - 0s 8ms/step - loss: 0.5019 - auc_10: 0.8451 - val_loss: 0.6424 - val_auc_10: 0.6902\n",
      "Epoch 67/100\n",
      "12/12 [==============================] - 0s 8ms/step - loss: 0.4986 - auc_10: 0.8478 - val_loss: 0.6444 - val_auc_10: 0.6897\n",
      "Epoch 68/100\n",
      "12/12 [==============================] - 0s 8ms/step - loss: 0.4935 - auc_10: 0.8520 - val_loss: 0.6555 - val_auc_10: 0.6876\n",
      "Epoch 69/100\n",
      "12/12 [==============================] - 0s 9ms/step - loss: 0.4936 - auc_10: 0.8494 - val_loss: 0.6452 - val_auc_10: 0.6923\n",
      "Epoch 70/100\n",
      "12/12 [==============================] - 0s 8ms/step - loss: 0.4891 - auc_10: 0.8540 - val_loss: 0.6381 - val_auc_10: 0.6963\n",
      "Epoch 71/100\n",
      "12/12 [==============================] - 0s 8ms/step - loss: 0.4892 - auc_10: 0.8546 - val_loss: 0.6393 - val_auc_10: 0.6966\n",
      "Epoch 72/100\n",
      "12/12 [==============================] - 0s 8ms/step - loss: 0.4852 - auc_10: 0.8576 - val_loss: 0.6461 - val_auc_10: 0.6943\n",
      "Epoch 73/100\n",
      "12/12 [==============================] - 0s 8ms/step - loss: 0.4855 - auc_10: 0.8549 - val_loss: 0.6368 - val_auc_10: 0.6992\n",
      "Epoch 74/100\n",
      "12/12 [==============================] - 0s 8ms/step - loss: 0.4820 - auc_10: 0.8585 - val_loss: 0.6329 - val_auc_10: 0.7035\n",
      "Epoch 75/100\n",
      "12/12 [==============================] - 0s 8ms/step - loss: 0.4799 - auc_10: 0.8601 - val_loss: 0.6536 - val_auc_10: 0.6948\n",
      "Epoch 76/100\n",
      "12/12 [==============================] - 0s 8ms/step - loss: 0.4777 - auc_10: 0.8610 - val_loss: 0.6429 - val_auc_10: 0.6997\n",
      "Epoch 77/100\n",
      "12/12 [==============================] - 0s 8ms/step - loss: 0.4744 - auc_10: 0.8624 - val_loss: 0.6330 - val_auc_10: 0.7057\n",
      "Epoch 78/100\n",
      "12/12 [==============================] - 0s 8ms/step - loss: 0.4741 - auc_10: 0.8629 - val_loss: 0.6361 - val_auc_10: 0.7039\n",
      "Epoch 79/100\n",
      "12/12 [==============================] - 0s 9ms/step - loss: 0.4726 - auc_10: 0.8642 - val_loss: 0.6382 - val_auc_10: 0.7056\n",
      "Epoch 80/100\n",
      "12/12 [==============================] - 0s 8ms/step - loss: 0.4691 - auc_10: 0.8664 - val_loss: 0.6350 - val_auc_10: 0.7068\n",
      "Epoch 81/100\n",
      "12/12 [==============================] - 0s 8ms/step - loss: 0.4678 - auc_10: 0.8676 - val_loss: 0.6483 - val_auc_10: 0.6994\n",
      "Epoch 82/100\n",
      "12/12 [==============================] - 0s 8ms/step - loss: 0.4683 - auc_10: 0.8664 - val_loss: 0.6433 - val_auc_10: 0.7028\n",
      "Epoch 83/100\n",
      "12/12 [==============================] - 0s 8ms/step - loss: 0.4638 - auc_10: 0.8710 - val_loss: 0.6514 - val_auc_10: 0.7000\n",
      "Epoch 84/100\n",
      "12/12 [==============================] - 0s 8ms/step - loss: 0.4625 - auc_10: 0.8698 - val_loss: 0.6375 - val_auc_10: 0.7071\n",
      "Epoch 85/100\n",
      "12/12 [==============================] - 0s 8ms/step - loss: 0.4612 - auc_10: 0.8707 - val_loss: 0.6603 - val_auc_10: 0.6990\n",
      "Epoch 86/100\n",
      "12/12 [==============================] - 0s 8ms/step - loss: 0.4600 - auc_10: 0.8720 - val_loss: 0.6617 - val_auc_10: 0.6990\n",
      "Epoch 87/100\n",
      "12/12 [==============================] - 0s 8ms/step - loss: 0.4619 - auc_10: 0.8697 - val_loss: 0.6491 - val_auc_10: 0.7030\n",
      "Epoch 88/100\n",
      "12/12 [==============================] - 0s 8ms/step - loss: 0.4550 - auc_10: 0.8752 - val_loss: 0.6371 - val_auc_10: 0.7086\n",
      "Epoch 89/100\n",
      "12/12 [==============================] - 0s 9ms/step - loss: 0.4537 - auc_10: 0.8753 - val_loss: 0.6360 - val_auc_10: 0.7092\n",
      "Epoch 90/100\n",
      "12/12 [==============================] - 0s 8ms/step - loss: 0.4529 - auc_10: 0.8756 - val_loss: 0.6348 - val_auc_10: 0.7110\n",
      "Epoch 91/100\n",
      "12/12 [==============================] - 0s 8ms/step - loss: 0.4547 - auc_10: 0.8745 - val_loss: 0.6485 - val_auc_10: 0.7056\n",
      "Epoch 92/100\n",
      "12/12 [==============================] - 0s 8ms/step - loss: 0.4489 - auc_10: 0.8786 - val_loss: 0.6493 - val_auc_10: 0.7053\n",
      "Epoch 93/100\n",
      "12/12 [==============================] - 0s 8ms/step - loss: 0.4492 - auc_10: 0.8772 - val_loss: 0.6436 - val_auc_10: 0.7093\n",
      "Epoch 94/100\n",
      "12/12 [==============================] - 0s 8ms/step - loss: 0.4468 - auc_10: 0.8797 - val_loss: 0.6443 - val_auc_10: 0.7089\n",
      "Epoch 95/100\n",
      "12/12 [==============================] - 0s 8ms/step - loss: 0.4501 - auc_10: 0.8762 - val_loss: 0.6468 - val_auc_10: 0.7084\n",
      "Epoch 96/100\n",
      "12/12 [==============================] - 0s 8ms/step - loss: 0.4430 - auc_10: 0.8819 - val_loss: 0.6453 - val_auc_10: 0.7100\n",
      "Epoch 97/100\n",
      "12/12 [==============================] - 0s 8ms/step - loss: 0.4401 - auc_10: 0.8832 - val_loss: 0.6413 - val_auc_10: 0.7102\n",
      "Epoch 98/100\n",
      "12/12 [==============================] - 0s 8ms/step - loss: 0.4393 - auc_10: 0.8843 - val_loss: 0.6597 - val_auc_10: 0.7056\n",
      "Epoch 99/100\n",
      "12/12 [==============================] - 0s 9ms/step - loss: 0.4423 - auc_10: 0.8812 - val_loss: 0.6564 - val_auc_10: 0.7062\n",
      "Epoch 100/100\n",
      "12/12 [==============================] - 0s 8ms/step - loss: 0.4366 - auc_10: 0.8843 - val_loss: 0.6423 - val_auc_10: 0.7112\n"
     ]
    }
   ],
   "source": [
    "hist = model.fit(\n",
    "    x=X_train,\n",
    "    y=dset[\"y_train\"],\n",
    "    epochs=100,\n",
    "    validation_split=0.2\n",
    ")"
   ]
  },
  {
   "cell_type": "code",
   "execution_count": 139,
   "id": "0b4bd337",
   "metadata": {},
   "outputs": [
    {
     "data": {
      "text/plain": [
       "<tf.Tensor: shape=(480, 99), dtype=float32, numpy=\n",
       "array([[2.786003  , 2.1320984 , 1.7281817 , ..., 1.950046  , 1.3351079 ,\n",
       "        2.7784753 ],\n",
       "       [2.1127396 , 1.9483985 , 2.3664298 , ..., 2.5393002 , 1.9483985 ,\n",
       "        2.330223  ],\n",
       "       [1.7384248 , 0.62124383, 1.0896962 , ..., 2.3826559 , 2.2240531 ,\n",
       "        1.2491345 ],\n",
       "       ...,\n",
       "       [2.7634516 , 2.1320984 , 1.691975  , ..., 1.2044759 , 1.4452294 ,\n",
       "        1.0391947 ],\n",
       "       [1.9712576 , 1.5665901 , 1.7898191 , ..., 1.7010695 , 2.3187184 ,\n",
       "        1.512418  ],\n",
       "       [2.2782001 , 1.3454415 , 1.2210611 , ..., 1.1178982 , 0.11894715,\n",
       "        0.50904524]], dtype=float32)>"
      ]
     },
     "execution_count": 139,
     "metadata": {},
     "output_type": "execute_result"
    }
   ],
   "source": [
    "regions = tf.keras.Model(inputs=Input, outputs=model.get_layer(\"regions\").output)\n",
    "regions(X_train)"
   ]
  },
  {
   "cell_type": "code",
   "execution_count": 116,
   "id": "06d71384",
   "metadata": {},
   "outputs": [],
   "source": [
    "from tqdm.auto import tqdm, trange\n",
    "from statsmodels.api import Logit, tools\n",
    "from functools import partial\n",
    "\n",
    "def logit_pvals(X, y):\n",
    "    out = []\n",
    "    #P = Pool(int(cpu_count()/2 - 1))\n",
    "    pvals_iterable = map(partial(single_pval, X=X, y=y), range(X.shape[1]))\n",
    "\n",
    "    with tqdm(total = X.shape[1], desc=\"generating p values\") as pbar:\n",
    "        for p_val in pvals_iterable:\n",
    "            out.append(p_val)\n",
    "            pbar.update()\n",
    "\n",
    "    #P.close()\n",
    "    #P.join()\n",
    "    return out\n",
    "\n",
    "def single_pval(i, X, y):\n",
    "    lr = Logit(y, tools.add_constant(X[:, i])).fit(disp=0, method=\"bfgs\") \n",
    "    pvals = lr.pvalues\n",
    "    if len(pvals) != 2:\n",
    "        p = 1\n",
    "    else:\n",
    "        p = pvals[1]\n",
    "    return p if not p == 0 else 1e-100"
   ]
  },
  {
   "cell_type": "code",
   "execution_count": 140,
   "id": "1ab43f19",
   "metadata": {},
   "outputs": [
    {
     "data": {
      "application/vnd.jupyter.widget-view+json": {
       "model_id": "07f4b9fbf4b64ad5895f69a291cbb480",
       "version_major": 2,
       "version_minor": 0
      },
      "text/plain": [
       "generating p values:   0%|          | 0/99 [00:00<?, ?it/s]"
      ]
     },
     "metadata": {},
     "output_type": "display_data"
    }
   ],
   "source": [
    "X=regions(X_train).numpy()\n",
    "p=logit_pvals(X, dset[\"y_train\"][:, 1])"
   ]
  },
  {
   "cell_type": "code",
   "execution_count": 142,
   "id": "b52cf417",
   "metadata": {},
   "outputs": [
    {
     "data": {
      "image/png": "[encoded data removed]",
      "text/plain": [
       "<Figure size 432x288 with 1 Axes>"
      ]
     },
     "metadata": {
      "needs_background": "light"
     },
     "output_type": "display_data"
    }
   ],
   "source": [
    "plt.scatter(list(range(99)), -np.log10(p))\n",
    "plt.ylabel(\"-log10(p)\")\n",
    "plt.xlabel(\"region\")\n",
    "plt.savefig(\"reg.jpeg\")"
   ]
  },
  {
   "cell_type": "code",
   "execution_count": null,
   "id": "893f9024",
   "metadata": {},
   "outputs": [],
   "source": []
  },
  {
   "cell_type": "code",
   "execution_count": 92,
   "id": "a88b8741",
   "metadata": {},
   "outputs": [],
   "source": [
    "weights = model.layers[-1].weights[0].numpy()"
   ]
  },
  {
   "cell_type": "code",
   "execution_count": 81,
   "id": "240fc6b8",
   "metadata": {},
   "outputs": [
    {
     "data": {
      "text/plain": [
       "<matplotlib.collections.PathCollection at 0x7fb9504cd790>"
      ]
     },
     "execution_count": 81,
     "metadata": {},
     "output_type": "execute_result"
    },
    {
     "data": {
      "image/png": "[encoded data removed]",
      "text/plain": [
       "<Figure size 432x288 with 1 Axes>"
      ]
     },
     "metadata": {
      "needs_background": "light"
     },
     "output_type": "display_data"
    }
   ],
   "source": [
    "plt.scatter(list(range(20)), model.layers[0].weights[0].numpy().ravel())"
   ]
  },
  {
   "cell_type": "code",
   "execution_count": 83,
   "id": "e2943ec9",
   "metadata": {},
   "outputs": [
    {
     "data": {
      "text/plain": [
       "(191, 2)"
      ]
     },
     "execution_count": 83,
     "metadata": {},
     "output_type": "execute_result"
    }
   ],
   "source": [
    "weights.shape"
   ]
  },
  {
   "cell_type": "code",
   "execution_count": 62,
   "id": "7d0b3ef7",
   "metadata": {},
   "outputs": [
    {
     "data": {
      "text/plain": [
       "192"
      ]
     },
     "execution_count": 62,
     "metadata": {},
     "output_type": "execute_result"
    }
   ],
   "source": [
    "len(x)"
   ]
  },
  {
   "cell_type": "code",
   "execution_count": 93,
   "id": "31ae5437",
   "metadata": {},
   "outputs": [
    {
     "data": {
      "text/plain": [
       "<matplotlib.collections.PathCollection at 0x7fbab35450d0>"
      ]
     },
     "execution_count": 93,
     "metadata": {},
     "output_type": "execute_result"
    },
    {
     "data": {
      "image/png": "[encoded data removed]",
      "text/plain": [
       "<Figure size 432x288 with 1 Axes>"
      ]
     },
     "metadata": {
      "needs_background": "light"
     },
     "output_type": "display_data"
    }
   ],
   "source": [
    "import matplotlib.pyplot as plt\n",
    "\n",
    "x=list(range(187))\n",
    "plt.scatter(x, np.abs(weights[:, 0]))"
   ]
  },
  {
   "cell_type": "code",
   "execution_count": 94,
   "id": "5c38397d",
   "metadata": {},
   "outputs": [
    {
     "ename": "ValueError",
     "evalue": "x and y must be the same size",
     "output_type": "error",
     "traceback": [
      "\u001b[0;31m---------------------------------------------------------------------------\u001b[0m",
      "\u001b[0;31mValueError\u001b[0m                                Traceback (most recent call last)",
      "\u001b[0;32m<ipython-input-94-250f1f4b5167>\u001b[0m in \u001b[0;36m<module>\u001b[0;34m\u001b[0m\n\u001b[1;32m      1\u001b[0m \u001b[0mx\u001b[0m\u001b[0;34m=\u001b[0m\u001b[0mlist\u001b[0m\u001b[0;34m(\u001b[0m\u001b[0mrange\u001b[0m\u001b[0;34m(\u001b[0m\u001b[0;36m197\u001b[0m\u001b[0;34m)\u001b[0m\u001b[0;34m)\u001b[0m\u001b[0;34m\u001b[0m\u001b[0;34m\u001b[0m\u001b[0m\n\u001b[0;32m----> 2\u001b[0;31m \u001b[0mplt\u001b[0m\u001b[0;34m.\u001b[0m\u001b[0mscatter\u001b[0m\u001b[0;34m(\u001b[0m\u001b[0mx\u001b[0m\u001b[0;34m,\u001b[0m \u001b[0mnp\u001b[0m\u001b[0;34m.\u001b[0m\u001b[0mabs\u001b[0m\u001b[0;34m(\u001b[0m\u001b[0mweights\u001b[0m\u001b[0;34m[\u001b[0m\u001b[0;34m:\u001b[0m\u001b[0;34m,\u001b[0m \u001b[0;36m1\u001b[0m\u001b[0;34m]\u001b[0m\u001b[0;34m)\u001b[0m\u001b[0;34m)\u001b[0m\u001b[0;34m\u001b[0m\u001b[0;34m\u001b[0m\u001b[0m\n\u001b[0m",
      "\u001b[0;32m~/miniconda3/lib/python3.7/site-packages/matplotlib/pyplot.py\u001b[0m in \u001b[0;36mscatter\u001b[0;34m(x, y, s, c, marker, cmap, norm, vmin, vmax, alpha, linewidths, verts, edgecolors, plotnonfinite, data, **kwargs)\u001b[0m\n\u001b[1;32m   2893\u001b[0m         \u001b[0mverts\u001b[0m\u001b[0;34m=\u001b[0m\u001b[0mverts\u001b[0m\u001b[0;34m,\u001b[0m \u001b[0medgecolors\u001b[0m\u001b[0;34m=\u001b[0m\u001b[0medgecolors\u001b[0m\u001b[0;34m,\u001b[0m\u001b[0;34m\u001b[0m\u001b[0;34m\u001b[0m\u001b[0m\n\u001b[1;32m   2894\u001b[0m         \u001b[0mplotnonfinite\u001b[0m\u001b[0;34m=\u001b[0m\u001b[0mplotnonfinite\u001b[0m\u001b[0;34m,\u001b[0m\u001b[0;34m\u001b[0m\u001b[0;34m\u001b[0m\u001b[0m\n\u001b[0;32m-> 2895\u001b[0;31m         **({\"data\": data} if data is not None else {}), **kwargs)\n\u001b[0m\u001b[1;32m   2896\u001b[0m     \u001b[0msci\u001b[0m\u001b[0;34m(\u001b[0m\u001b[0m__ret\u001b[0m\u001b[0;34m)\u001b[0m\u001b[0;34m\u001b[0m\u001b[0;34m\u001b[0m\u001b[0m\n\u001b[1;32m   2897\u001b[0m     \u001b[0;32mreturn\u001b[0m \u001b[0m__ret\u001b[0m\u001b[0;34m\u001b[0m\u001b[0;34m\u001b[0m\u001b[0m\n",
      "\u001b[0;32m~/miniconda3/lib/python3.7/site-packages/matplotlib/__init__.py\u001b[0m in \u001b[0;36minner\u001b[0;34m(ax, data, *args, **kwargs)\u001b[0m\n\u001b[1;32m   1445\u001b[0m     \u001b[0;32mdef\u001b[0m \u001b[0minner\u001b[0m\u001b[0;34m(\u001b[0m\u001b[0max\u001b[0m\u001b[0;34m,\u001b[0m \u001b[0;34m*\u001b[0m\u001b[0margs\u001b[0m\u001b[0;34m,\u001b[0m \u001b[0mdata\u001b[0m\u001b[0;34m=\u001b[0m\u001b[0;32mNone\u001b[0m\u001b[0;34m,\u001b[0m \u001b[0;34m**\u001b[0m\u001b[0mkwargs\u001b[0m\u001b[0;34m)\u001b[0m\u001b[0;34m:\u001b[0m\u001b[0;34m\u001b[0m\u001b[0;34m\u001b[0m\u001b[0m\n\u001b[1;32m   1446\u001b[0m         \u001b[0;32mif\u001b[0m \u001b[0mdata\u001b[0m \u001b[0;32mis\u001b[0m \u001b[0;32mNone\u001b[0m\u001b[0;34m:\u001b[0m\u001b[0;34m\u001b[0m\u001b[0;34m\u001b[0m\u001b[0m\n\u001b[0;32m-> 1447\u001b[0;31m             \u001b[0;32mreturn\u001b[0m \u001b[0mfunc\u001b[0m\u001b[0;34m(\u001b[0m\u001b[0max\u001b[0m\u001b[0;34m,\u001b[0m \u001b[0;34m*\u001b[0m\u001b[0mmap\u001b[0m\u001b[0;34m(\u001b[0m\u001b[0msanitize_sequence\u001b[0m\u001b[0;34m,\u001b[0m \u001b[0margs\u001b[0m\u001b[0;34m)\u001b[0m\u001b[0;34m,\u001b[0m \u001b[0;34m**\u001b[0m\u001b[0mkwargs\u001b[0m\u001b[0;34m)\u001b[0m\u001b[0;34m\u001b[0m\u001b[0;34m\u001b[0m\u001b[0m\n\u001b[0m\u001b[1;32m   1448\u001b[0m \u001b[0;34m\u001b[0m\u001b[0m\n\u001b[1;32m   1449\u001b[0m         \u001b[0mbound\u001b[0m \u001b[0;34m=\u001b[0m \u001b[0mnew_sig\u001b[0m\u001b[0;34m.\u001b[0m\u001b[0mbind\u001b[0m\u001b[0;34m(\u001b[0m\u001b[0max\u001b[0m\u001b[0;34m,\u001b[0m \u001b[0;34m*\u001b[0m\u001b[0margs\u001b[0m\u001b[0;34m,\u001b[0m \u001b[0;34m**\u001b[0m\u001b[0mkwargs\u001b[0m\u001b[0;34m)\u001b[0m\u001b[0;34m\u001b[0m\u001b[0;34m\u001b[0m\u001b[0m\n",
      "\u001b[0;32m~/miniconda3/lib/python3.7/site-packages/matplotlib/cbook/deprecation.py\u001b[0m in \u001b[0;36mwrapper\u001b[0;34m(*inner_args, **inner_kwargs)\u001b[0m\n\u001b[1;32m    409\u001b[0m                          \u001b[0;32melse\u001b[0m \u001b[0mdeprecation_addendum\u001b[0m\u001b[0;34m,\u001b[0m\u001b[0;34m\u001b[0m\u001b[0;34m\u001b[0m\u001b[0m\n\u001b[1;32m    410\u001b[0m                 **kwargs)\n\u001b[0;32m--> 411\u001b[0;31m         \u001b[0;32mreturn\u001b[0m \u001b[0mfunc\u001b[0m\u001b[0;34m(\u001b[0m\u001b[0;34m*\u001b[0m\u001b[0minner_args\u001b[0m\u001b[0;34m,\u001b[0m \u001b[0;34m**\u001b[0m\u001b[0minner_kwargs\u001b[0m\u001b[0;34m)\u001b[0m\u001b[0;34m\u001b[0m\u001b[0;34m\u001b[0m\u001b[0m\n\u001b[0m\u001b[1;32m    412\u001b[0m \u001b[0;34m\u001b[0m\u001b[0m\n\u001b[1;32m    413\u001b[0m     \u001b[0;32mreturn\u001b[0m \u001b[0mwrapper\u001b[0m\u001b[0;34m\u001b[0m\u001b[0;34m\u001b[0m\u001b[0m\n",
      "\u001b[0;32m~/miniconda3/lib/python3.7/site-packages/matplotlib/axes/_axes.py\u001b[0m in \u001b[0;36mscatter\u001b[0;34m(self, x, y, s, c, marker, cmap, norm, vmin, vmax, alpha, linewidths, verts, edgecolors, plotnonfinite, **kwargs)\u001b[0m\n\u001b[1;32m   4439\u001b[0m         \u001b[0my\u001b[0m \u001b[0;34m=\u001b[0m \u001b[0mnp\u001b[0m\u001b[0;34m.\u001b[0m\u001b[0mma\u001b[0m\u001b[0;34m.\u001b[0m\u001b[0mravel\u001b[0m\u001b[0;34m(\u001b[0m\u001b[0my\u001b[0m\u001b[0;34m)\u001b[0m\u001b[0;34m\u001b[0m\u001b[0;34m\u001b[0m\u001b[0m\n\u001b[1;32m   4440\u001b[0m         \u001b[0;32mif\u001b[0m \u001b[0mx\u001b[0m\u001b[0;34m.\u001b[0m\u001b[0msize\u001b[0m \u001b[0;34m!=\u001b[0m \u001b[0my\u001b[0m\u001b[0;34m.\u001b[0m\u001b[0msize\u001b[0m\u001b[0;34m:\u001b[0m\u001b[0;34m\u001b[0m\u001b[0;34m\u001b[0m\u001b[0m\n\u001b[0;32m-> 4441\u001b[0;31m             \u001b[0;32mraise\u001b[0m \u001b[0mValueError\u001b[0m\u001b[0;34m(\u001b[0m\u001b[0;34m\"x and y must be the same size\"\u001b[0m\u001b[0;34m)\u001b[0m\u001b[0;34m\u001b[0m\u001b[0;34m\u001b[0m\u001b[0m\n\u001b[0m\u001b[1;32m   4442\u001b[0m \u001b[0;34m\u001b[0m\u001b[0m\n\u001b[1;32m   4443\u001b[0m         \u001b[0;32mif\u001b[0m \u001b[0ms\u001b[0m \u001b[0;32mis\u001b[0m \u001b[0;32mNone\u001b[0m\u001b[0;34m:\u001b[0m\u001b[0;34m\u001b[0m\u001b[0;34m\u001b[0m\u001b[0m\n",
      "\u001b[0;31mValueError\u001b[0m: x and y must be the same size"
     ]
    },
    {
     "data": {
      "image/png": "[encoded data removed]",
      "text/plain": [
       "<Figure size 432x288 with 1 Axes>"
      ]
     },
     "metadata": {
      "needs_background": "light"
     },
     "output_type": "display_data"
    }
   ],
   "source": [
    "x=list(range(197))\n",
    "plt.scatter(x, np.abs(weights[:, 1]))"
   ]
  },
  {
   "cell_type": "code",
   "execution_count": null,
   "id": "5f2a4373",
   "metadata": {},
   "outputs": [],
   "source": []
  },
  {
   "cell_type": "code",
   "execution_count": 68,
   "id": "ae684121",
   "metadata": {},
   "outputs": [
    {
     "data": {
      "text/plain": [
       "<matplotlib.collections.PathCollection at 0x7fbac41ba910>"
      ]
     },
     "execution_count": 68,
     "metadata": {},
     "output_type": "execute_result"
    },
    {
     "data": {
      "image/png": "[encoded data removed]",
      "text/plain": [
       "<Figure size 432x288 with 1 Axes>"
      ]
     },
     "metadata": {
      "needs_background": "light"
     },
     "output_type": "display_data"
    }
   ],
   "source": [
    "plt.scatter(list(range(1000)), -np.log10(dset[\"ct\"][\"logistic_p\"]))"
   ]
  }
 ],
 "metadata": {
  "kernelspec": {
   "display_name": "Python 3",
   "language": "python",
   "name": "python3"
  },
  "language_info": {
   "codemirror_mode": {
    "name": "ipython",
    "version": 3
   },
   "file_extension": ".py",
   "mimetype": "text/x-python",
   "name": "python",
   "nbconvert_exporter": "python",
   "pygments_lexer": "ipython3",
   "version": "3.7.9"
  }
 },
 "nbformat": 4,
 "nbformat_minor": 5
}
