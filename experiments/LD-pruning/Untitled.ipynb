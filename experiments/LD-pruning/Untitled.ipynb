{
 "cells": [
  {
   "cell_type": "code",
   "execution_count": 25,
   "id": "a7ccd506",
   "metadata": {},
   "outputs": [],
   "source": [
    "from pandas import read_csv\n",
    "from seaborn import violinplot\n",
    "\n",
    "key = [\"0.2\"]*150 + [\"0.5\"]*150 + [\"0.8\"]*150\n",
    "p = []\n",
    "for r2 in [\"0.2\", \"0.5\", \"0.8\"]:\n",
    "    pruned = list(read_csv(f\"no_pruned_{r2}.txt\", sep=\" \", names=[\"pruned\", \"file\"])[\"pruned\"].values)\n",
    "    p += pruned"
   ]
  },
  {
   "cell_type": "code",
   "execution_count": 48,
   "id": "9387929e",
   "metadata": {},
   "outputs": [],
   "source": [
    "from seaborn import boxplot"
   ]
  },
  {
   "cell_type": "code",
   "execution_count": 30,
   "id": "228538e9",
   "metadata": {},
   "outputs": [
    {
     "data": {
      "image/png": "[encoded data removed]",
      "text/plain": [
       "<Figure size 432x288 with 1 Axes>"
      ]
     },
     "metadata": {
      "needs_background": "light"
     },
     "output_type": "display_data"
    }
   ],
   "source": [
    "violinplot(x=key, y=p)\n",
    "import matplotlib.pyplot as plt\n",
    "plt.ylabel(\"SNPs removed\")\n",
    "plt.xlabel(\"$r^2$ threshold\")\n",
    "plt.savefig(\"prun.jpeg\")"
   ]
  },
  {
   "cell_type": "code",
   "execution_count": 44,
   "id": "307b97d6",
   "metadata": {},
   "outputs": [],
   "source": [
    "def get_causals(h2s, i):\n",
    "    p = f\"/home/shussain/Simulated_data/01072021/{h2s}/simulation_output{i}/PS/output/ct.csv\"\n",
    "    causals = read_csv(p).query(\"causal == 1\")[\"SNP\"].values\n",
    "    return causals\n",
    "\n",
    "def get_left(h2s, i, r2):\n",
    "    p = f\"/home/shussain/Simulated_data/01072021/{h2s}/simulation_output{i}/prelim/pruned/r2_{r2}.prune.in\"\n",
    "    left = read_csv(p, sep=\" \", names=[\"SNP\"])[\"SNP\"].values\n",
    "    return left\n",
    "\n",
    "import numpy as np\n",
    "from itertools import product\n",
    "\n",
    "captured = []\n",
    "\n",
    "for h2s, i in product([\"0.05\", \"0.5\", \"1\"], list(range(1, 51))):\n",
    "    for r2 in [0.2, 0.5, 0.8]:\n",
    "        common = np.intersect1d(get_left(h2s, i, r2), get_causals(h2s, i))\n",
    "        captured.append(10*len(common))"
   ]
  },
  {
   "cell_type": "code",
   "execution_count": 49,
   "id": "0a501da1",
   "metadata": {},
   "outputs": [
    {
     "data": {
      "image/png": "[encoded data removed]",
      "text/plain": [
       "<Figure size 432x288 with 1 Axes>"
      ]
     },
     "metadata": {
      "needs_background": "light"
     },
     "output_type": "display_data"
    }
   ],
   "source": [
    "boxplot(x=key, y=captured)\n",
    "plt.ylabel(\"% of causal SNPs remaining after pruning\")\n",
    "plt.savefig(\"left_box.jpeg\")"
   ]
  },
  {
   "cell_type": "code",
   "execution_count": 13,
   "id": "a8ac59b1",
   "metadata": {},
   "outputs": [
    {
     "data": {
      "text/html": [
       "<div>\n",
       "<style scoped>\n",
       "    .dataframe tbody tr th:only-of-type {\n",
       "        vertical-align: middle;\n",
       "    }\n",
       "\n",
       "    .dataframe tbody tr th {\n",
       "        vertical-align: top;\n",
       "    }\n",
       "\n",
       "    .dataframe thead th {\n",
       "        text-align: right;\n",
       "    }\n",
       "</style>\n",
       "<table border=\"1\" class=\"dataframe\">\n",
       "  <thead>\n",
       "    <tr style=\"text-align: right;\">\n",
       "      <th></th>\n",
       "      <th>pruned</th>\n",
       "      <th>file</th>\n",
       "    </tr>\n",
       "  </thead>\n",
       "  <tbody>\n",
       "    <tr>\n",
       "      <th>0</th>\n",
       "      <td>680</td>\n",
       "      <td>/home/shussain/Simulated_data/01072021/0.05/si...</td>\n",
       "    </tr>\n",
       "    <tr>\n",
       "      <th>1</th>\n",
       "      <td>692</td>\n",
       "      <td>/home/shussain/Simulated_data/01072021/0.05/si...</td>\n",
       "    </tr>\n",
       "    <tr>\n",
       "      <th>2</th>\n",
       "      <td>705</td>\n",
       "      <td>/home/shussain/Simulated_data/01072021/0.05/si...</td>\n",
       "    </tr>\n",
       "    <tr>\n",
       "      <th>3</th>\n",
       "      <td>756</td>\n",
       "      <td>/home/shussain/Simulated_data/01072021/0.05/si...</td>\n",
       "    </tr>\n",
       "    <tr>\n",
       "      <th>4</th>\n",
       "      <td>769</td>\n",
       "      <td>/home/shussain/Simulated_data/01072021/0.05/si...</td>\n",
       "    </tr>\n",
       "    <tr>\n",
       "      <th>...</th>\n",
       "      <td>...</td>\n",
       "      <td>...</td>\n",
       "    </tr>\n",
       "    <tr>\n",
       "      <th>145</th>\n",
       "      <td>746</td>\n",
       "      <td>/home/shussain/Simulated_data/01072021/1/simul...</td>\n",
       "    </tr>\n",
       "    <tr>\n",
       "      <th>146</th>\n",
       "      <td>742</td>\n",
       "      <td>/home/shussain/Simulated_data/01072021/1/simul...</td>\n",
       "    </tr>\n",
       "    <tr>\n",
       "      <th>147</th>\n",
       "      <td>714</td>\n",
       "      <td>/home/shussain/Simulated_data/01072021/1/simul...</td>\n",
       "    </tr>\n",
       "    <tr>\n",
       "      <th>148</th>\n",
       "      <td>779</td>\n",
       "      <td>/home/shussain/Simulated_data/01072021/1/simul...</td>\n",
       "    </tr>\n",
       "    <tr>\n",
       "      <th>149</th>\n",
       "      <td>740</td>\n",
       "      <td>/home/shussain/Simulated_data/01072021/1/simul...</td>\n",
       "    </tr>\n",
       "  </tbody>\n",
       "</table>\n",
       "<p>150 rows × 2 columns</p>\n",
       "</div>"
      ],
      "text/plain": [
       "     pruned                                               file\n",
       "0       680  /home/shussain/Simulated_data/01072021/0.05/si...\n",
       "1       692  /home/shussain/Simulated_data/01072021/0.05/si...\n",
       "2       705  /home/shussain/Simulated_data/01072021/0.05/si...\n",
       "3       756  /home/shussain/Simulated_data/01072021/0.05/si...\n",
       "4       769  /home/shussain/Simulated_data/01072021/0.05/si...\n",
       "..      ...                                                ...\n",
       "145     746  /home/shussain/Simulated_data/01072021/1/simul...\n",
       "146     742  /home/shussain/Simulated_data/01072021/1/simul...\n",
       "147     714  /home/shussain/Simulated_data/01072021/1/simul...\n",
       "148     779  /home/shussain/Simulated_data/01072021/1/simul...\n",
       "149     740  /home/shussain/Simulated_data/01072021/1/simul...\n",
       "\n",
       "[150 rows x 2 columns]"
      ]
     },
     "execution_count": 13,
     "metadata": {},
     "output_type": "execute_result"
    }
   ],
   "source": [
    "read_csv(\"no_pruned_0.2.txt\", sep=\" \", names=[\"pruned\", \"file\"])"
   ]
  }
 ],
 "metadata": {
  "kernelspec": {
   "display_name": "Python 3",
   "language": "python",
   "name": "python3"
  },
  "language_info": {
   "codemirror_mode": {
    "name": "ipython",
    "version": 3
   },
   "file_extension": ".py",
   "mimetype": "text/x-python",
   "name": "python",
   "nbconvert_exporter": "python",
   "pygments_lexer": "ipython3",
   "version": "3.7.9"
  }
 },
 "nbformat": 4,
 "nbformat_minor": 5
}
