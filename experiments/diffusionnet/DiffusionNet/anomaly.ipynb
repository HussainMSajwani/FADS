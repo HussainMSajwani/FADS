{
 "cells": [
  {
   "cell_type": "code",
   "execution_count": 1,
   "metadata": {
    "collapsed": false,
    "deletable": true,
    "editable": true,
    "jupyter": {
     "outputs_hidden": false
    }
   },
   "outputs": [],
   "source": [
    "import numpy as np\n",
    "import keras.backend as K\n",
    "import tensorflow as tf\n",
    "\n",
    "import Diffusion as df\n",
    "import os.path\n",
    "from autoencoder import *\n",
    "\n",
    "import matplotlib.pyplot as plt\n",
    "from mpl_toolkits.mplot3d import Axes3D\n",
    "\n",
    "from keras.utils import np_utils\n",
    "from keras.layers import Dense, Input\n",
    "from keras.models import Model\n",
    "from keras import regularizers\n",
    "\n",
    "import scipy.ndimage"
   ]
  },
  {
   "cell_type": "code",
   "execution_count": 2,
   "metadata": {
    "deletable": true,
    "editable": true
   },
   "outputs": [],
   "source": [
    "def im2patch(img, patch_dim=1):\n",
    "    nrows, ncols = img.shape\n",
    "    num_patches = (nrows - patch_dim + 1) * (ncols - patch_dim + 1)\n",
    "\n",
    "    patches = np.zeros((patch_dim ** 2, num_patches))\n",
    "\n",
    "    col_range = np.arange(ncols - patch_dim + 1)\n",
    "    row_range = np.arange(nrows - patch_dim + 1)\n",
    "    k = 0;\n",
    "    for m in range(0, patch_dim):\n",
    "        for n in range(0, patch_dim):\n",
    "            col_inds = n + col_range\n",
    "            row_inds = m + row_range\n",
    "            patches[k, :] = np.reshape(img[row_inds,:][:,col_inds], (1, num_patches))\n",
    "            k = k + 1\n",
    "    \n",
    "    return patches"
   ]
  },
  {
   "cell_type": "code",
   "execution_count": 8,
   "metadata": {
    "collapsed": false,
    "deletable": true,
    "editable": true,
    "jupyter": {
     "outputs_hidden": false
    }
   },
   "outputs": [
    {
     "ename": "ValueError",
     "evalue": "too many values to unpack (expected 2)",
     "output_type": "error",
     "traceback": [
      "\u001b[0;31m---------------------------------------------------------------------------\u001b[0m",
      "\u001b[0;31mValueError\u001b[0m                                Traceback (most recent call last)",
      "\u001b[0;32m<ipython-input-8-88ab7c3d61e5>\u001b[0m in \u001b[0;36m<module>\u001b[0;34m\u001b[0m\n\u001b[1;32m      4\u001b[0m \u001b[0mdata\u001b[0m\u001b[0;34m=\u001b[0m\u001b[0mdata\u001b[0m\u001b[0;34m.\u001b[0m\u001b[0mastype\u001b[0m\u001b[0;34m(\u001b[0m\u001b[0;34m'float'\u001b[0m\u001b[0;34m)\u001b[0m\u001b[0;34m/\u001b[0m\u001b[0;36m255.0\u001b[0m\u001b[0;34m\u001b[0m\u001b[0;34m\u001b[0m\u001b[0m\n\u001b[1;32m      5\u001b[0m \u001b[0;34m\u001b[0m\u001b[0m\n\u001b[0;32m----> 6\u001b[0;31m \u001b[0mnrows\u001b[0m\u001b[0;34m,\u001b[0m \u001b[0mncols\u001b[0m \u001b[0;34m=\u001b[0m \u001b[0mdata\u001b[0m\u001b[0;34m.\u001b[0m\u001b[0mshape\u001b[0m\u001b[0;34m\u001b[0m\u001b[0;34m\u001b[0m\u001b[0m\n\u001b[0m\u001b[1;32m      7\u001b[0m \u001b[0;31m# Show the image\u001b[0m\u001b[0;34m\u001b[0m\u001b[0;34m\u001b[0m\u001b[0;34m\u001b[0m\u001b[0m\n\u001b[1;32m      8\u001b[0m \u001b[0mplt\u001b[0m\u001b[0;34m.\u001b[0m\u001b[0mimshow\u001b[0m\u001b[0;34m(\u001b[0m\u001b[0mdata\u001b[0m\u001b[0;34m,\u001b[0m\u001b[0mcmap\u001b[0m\u001b[0;34m=\u001b[0m\u001b[0;34m'gray'\u001b[0m\u001b[0;34m)\u001b[0m\u001b[0;34m\u001b[0m\u001b[0;34m\u001b[0m\u001b[0m\n",
      "\u001b[0;31mValueError\u001b[0m: too many values to unpack (expected 2)"
     ]
    }
   ],
   "source": [
    "patch_size = 5\n",
    "\n",
    "data = plt.imread('bubble.png')\n",
    "data=data.astype('float')/255.0\n",
    "\n",
    "nrows, ncols = data.shape\n",
    "# Show the image\n",
    "plt.imshow(data,cmap='gray')\n",
    "plt.show()"
   ]
  },
  {
   "cell_type": "markdown",
   "metadata": {},
   "source": [
    "Select 2k training patches out of ~40k patches"
   ]
  },
  {
   "cell_type": "code",
   "execution_count": 4,
   "metadata": {
    "collapsed": false,
    "deletable": true,
    "editable": true,
    "jupyter": {
     "outputs_hidden": false
    }
   },
   "outputs": [],
   "source": [
    "patches = im2patch(data, patch_size)\n",
    "patches = patches.T\n",
    "n_train = 2000\n",
    "p = np.random.choice(patches.shape[0],n_train, replace=False)\n",
    "patches_train = patches[p,:]"
   ]
  },
  {
   "cell_type": "markdown",
   "metadata": {},
   "source": [
    "Calculate diffusion map of training patches"
   ]
  },
  {
   "cell_type": "code",
   "execution_count": 5,
   "metadata": {
    "collapsed": false,
    "deletable": true,
    "editable": true,
    "jupyter": {
     "outputs_hidden": false
    }
   },
   "outputs": [],
   "source": [
    "embedding_size = 3\n",
    "k = 32\n",
    "K_mat = df.ComputeLBAffinity(patches_train,k)   # Laplace-Beltrami affinity: D^-1 * K * D^-1\n",
    "P     = df.makeRowStoch(K_mat)                     # markov matrix \n",
    "E1,v1 = df.Diffusion(K_mat, nEigenVals=embedding_size+1)  # eigenvalues and eigenvectors\n",
    "embed_train = np.matmul(E1, np.diag(v1)) # diffusion maps"
   ]
  },
  {
   "cell_type": "code",
   "execution_count": 6,
   "metadata": {
    "collapsed": false,
    "deletable": true,
    "editable": true,
    "jupyter": {
     "outputs_hidden": false
    }
   },
   "outputs": [
    {
     "data": {
      "image/png": "[encoded data removed]",
      "text/plain": [
       "<matplotlib.figure.Figure at 0x11582ba10>"
      ]
     },
     "metadata": {},
     "output_type": "display_data"
    }
   ],
   "source": [
    "fig, (a1)  = plt.subplots(1,1)\n",
    "a1.scatter(embed_train[:,0], embed_train[:,1],color='blue')\n",
    "plt.title('diffusion embedding of train')\n",
    "a1.set_aspect('equal')\n",
    "plt.show()"
   ]
  },
  {
   "cell_type": "markdown",
   "metadata": {},
   "source": [
    "Define network size "
   ]
  },
  {
   "cell_type": "code",
   "execution_count": 7,
   "metadata": {
    "collapsed": false,
    "deletable": true,
    "editable": true,
    "jupyter": {
     "outputs_hidden": false
    }
   },
   "outputs": [],
   "source": [
    "input_size = patch_size**2\n",
    "encoder_layer_sizes = [40, 20, embedding_size]\n",
    "decoder_layer_sizes = [20, 40, input_size]\n",
    "N_EPOCHS = 4000"
   ]
  },
  {
   "cell_type": "markdown",
   "metadata": {},
   "source": [
    "## Encoder pre-training"
   ]
  },
  {
   "cell_type": "code",
   "execution_count": 8,
   "metadata": {
    "collapsed": false,
    "deletable": true,
    "editable": true,
    "jupyter": {
     "outputs_hidden": false
    }
   },
   "outputs": [],
   "source": [
    "ae1 = Autoencoder(input_size=input_size, hidden_size=encoder_layer_sizes[0], \n",
    "                            reg_par=1e-7,output_activation='linear')\n",
    "\n",
    "ae1.compile(optimizer='adam')\n",
    "ae1.train(patches_train,batch_size=n_train,n_epochs=N_EPOCHS)\n",
    "ae1_out = ae1.predict(patches_train)\n",
    "\n",
    "e1_out = ae1.encode(patches_train)"
   ]
  },
  {
   "cell_type": "code",
   "execution_count": 9,
   "metadata": {
    "collapsed": false,
    "deletable": true,
    "editable": true,
    "jupyter": {
     "outputs_hidden": false
    }
   },
   "outputs": [],
   "source": [
    "ae2 = Autoencoder(input_size=encoder_layer_sizes[0], hidden_size=encoder_layer_sizes[1], \n",
    "                            reg_par=1e-7,p=0.1,beta=0.01)\n",
    "\n",
    "ae2.compile(optimizer='adam')\n",
    "ae2.train(e1_out,batch_size=n_train,n_epochs=N_EPOCHS)\n",
    "\n",
    "e2_out = ae2.encode(e1_out) # this is the output of the second hidden layer"
   ]
  },
  {
   "cell_type": "code",
   "execution_count": 10,
   "metadata": {
    "collapsed": false,
    "deletable": true,
    "editable": true,
    "jupyter": {
     "outputs_hidden": false
    }
   },
   "outputs": [],
   "source": [
    "reg3 = pretrain_regression(e2_out, embed_train, encoder_layer_sizes[1], encoder_layer_sizes[2], \n",
    "                               batch_size=n_train, reg_par=1e-7, n_epochs=N_EPOCHS) \n",
    "\n",
    "e3_out = reg3.predict(e2_out)"
   ]
  },
  {
   "cell_type": "markdown",
   "metadata": {
    "deletable": true,
    "editable": true
   },
   "source": [
    "## Decoder pre-training"
   ]
  },
  {
   "cell_type": "code",
   "execution_count": 11,
   "metadata": {
    "deletable": true,
    "editable": true
   },
   "outputs": [],
   "source": [
    "d_ae1 = Autoencoder(input_size=embedding_size, hidden_size=decoder_layer_sizes[0], \n",
    "                            reg_par=1e-4,output_activation='linear',p=0.05,beta=0.01)\n",
    "\n",
    "d_ae1.compile(optimizer='adam')\n",
    "d_ae1.train(embed_train,batch_size=n_train,n_epochs=N_EPOCHS)\n",
    "de_output1 = d_ae1.predict(embed_train)\n",
    "\n",
    "de1_out = d_ae1.encode(embed_train)  # this is the output of the first hidden layer"
   ]
  },
  {
   "cell_type": "code",
   "execution_count": 12,
   "metadata": {
    "collapsed": true,
    "deletable": true,
    "editable": true,
    "jupyter": {
     "outputs_hidden": true
    }
   },
   "outputs": [],
   "source": [
    "d_ae2 = Autoencoder(input_size=decoder_layer_sizes[0], hidden_size=decoder_layer_sizes[1], \n",
    "                            reg_par=1e-7,p=0.05,beta=0.01)                          \n",
    "\n",
    "d_ae2.compile(optimizer='adam')\n",
    "d_ae2.train(de1_out,batch_size=n_train,n_epochs=N_EPOCHS)\n",
    "de2_out = d_ae2.encode(de1_out)"
   ]
  },
  {
   "cell_type": "code",
   "execution_count": 13,
   "metadata": {
    "collapsed": false,
    "deletable": true,
    "editable": true,
    "jupyter": {
     "outputs_hidden": false
    }
   },
   "outputs": [],
   "source": [
    "d_reg3 = pretrain_regression(de2_out, patches_train, decoder_layer_sizes[1], decoder_layer_sizes[2], \n",
    "                               batch_size=n_train, reg_par=1e-10, n_epochs=N_EPOCHS) \n",
    "de3_out = d_reg3.predict(de2_out)"
   ]
  },
  {
   "cell_type": "markdown",
   "metadata": {
    "deletable": true,
    "editable": true
   },
   "source": [
    "## Train Diffusion Net"
   ]
  },
  {
   "cell_type": "code",
   "execution_count": 14,
   "metadata": {
    "deletable": true,
    "editable": true
   },
   "outputs": [],
   "source": [
    "P  = tf.cast(tf.constant(P),tf.float32)\n",
    "E1 = tf.cast(tf.constant(E1),tf.float32)\n",
    "v1 = tf.cast(tf.constant(v1),tf.float32)"
   ]
  },
  {
   "cell_type": "code",
   "execution_count": 15,
   "metadata": {
    "deletable": true,
    "editable": true
   },
   "outputs": [],
   "source": [
    "# the parameters for training the network\n",
    "learning_rate = 1e-2\n",
    "n_iters = 6000\n",
    "\n",
    "X = tf.placeholder(tf.float32, shape=[None, input_size])\n",
    "Y = tf.placeholder(tf.float32, shape=[None, embedding_size])\n",
    "\n",
    "# params for loss function\n",
    "reg_par = 1e-4\n",
    "eta = 100\n"
   ]
  },
  {
   "cell_type": "code",
   "execution_count": 16,
   "metadata": {
    "collapsed": true,
    "jupyter": {
     "outputs_hidden": true
    }
   },
   "outputs": [],
   "source": [
    "# create separate sessions for encoder and decoder to train so training encoder\n",
    "# for various values of eta does not reset decoder every time\n",
    "sess = tf.Session()\n",
    "sessD = tf.Session()"
   ]
  },
  {
   "cell_type": "code",
   "execution_count": 17,
   "metadata": {
    "collapsed": false,
    "deletable": true,
    "editable": true,
    "jupyter": {
     "outputs_hidden": false
    }
   },
   "outputs": [],
   "source": [
    "# init diffusion net encoder units from pretrained autoencoders\n",
    "init = tf.constant(ae1.get_weights()[0])\n",
    "E_W1 = tf.Variable(init)\n",
    "init = tf.constant(ae1.get_weights()[1])\n",
    "E_b1 = tf.Variable(init)\n",
    "init = tf.constant(ae2.get_weights()[0])\n",
    "E_W2 = tf.Variable(init)\n",
    "init = tf.constant(ae2.get_weights()[1])\n",
    "E_b2 = tf.Variable(init)\n",
    "init = tf.constant(reg3.layers[1].get_weights()[0])\n",
    "E_W3 = tf.Variable(init)\n",
    "\n",
    "theta_E = [E_W1,E_W2, E_W3, E_b1, E_b2]\n",
    "\n",
    "def encoder(x):\n",
    "    h1 = tf.nn. sigmoid(tf.matmul(x, E_W1) + E_b1)\n",
    "    h2 = tf.nn.sigmoid(tf.matmul(h1, E_W2) + E_b2)\n",
    "    h3 = tf.matmul(h2, E_W3)\n",
    "    return h3\n",
    "\n",
    "# set input and output placeholders\n",
    "X = tf.placeholder(tf.float32, shape=[None, input_size])\n",
    "Z = encoder(X)\n",
    "\n",
    "# set encoder loss\n",
    "encoder_fidelity_loss = tf.reduce_mean(tf.square(Y-Z))\n",
    "encoder_eigen_loss = 0\n",
    "for i in range(embedding_size):\n",
    "    mat = P - v1[i]*np.eye(n_train,dtype=np.float32)\n",
    "    z_vec =  tf.slice(Z,[0,i],[-1,1])\n",
    "    vec = tf.matmul(mat, z_vec)\n",
    "    encoder_eigen_loss += tf.reduce_mean(tf.square(vec))\n",
    "encoder_reg = tf.nn.l2_loss(E_W3) #+tf.nn.l2_loss(E_W1) + tf.nn.l2_loss(E_W2)\n",
    "\n",
    "encoder_loss = encoder_fidelity_loss + eta*encoder_eigen_loss + reg_par*encoder_reg"
   ]
  },
  {
   "cell_type": "code",
   "execution_count": 18,
   "metadata": {
    "collapsed": true,
    "jupyter": {
     "outputs_hidden": true
    }
   },
   "outputs": [],
   "source": [
    "E_solver = (tf.train.AdamOptimizer(learning_rate=learning_rate)\n",
    "            .minimize(encoder_loss, var_list=theta_E))\n",
    "\n",
    "sess.run(tf.global_variables_initializer())"
   ]
  },
  {
   "cell_type": "code",
   "execution_count": 19,
   "metadata": {
    "collapsed": false,
    "jupyter": {
     "outputs_hidden": false
    }
   },
   "outputs": [
    {
     "name": "stdout",
     "output_type": "stream",
     "text": [
      "Initial encoder loss 2.00e+00\n",
      "Final encoder loss 5.85e-01\n"
     ]
    }
   ],
   "source": [
    "# train encoder\n",
    "z = sess.run(Z, feed_dict={X: patches_train})\n",
    "loss = np.mean(np.sum(np.abs(embed_train - z)**2,axis=1)**(1./2))\n",
    "print('Initial encoder loss %.2e' % (loss))\n",
    "\n",
    "for iter in range(n_iters+1):\n",
    "    _ = sess.run(E_solver, feed_dict={X: patches_train, Y:embed_train})\n",
    "\n",
    "z = sess.run(Z, feed_dict={X: patches_train})\n",
    "loss = np.mean(np.sum(np.abs(embed_train - z)**2,axis=1)**(1./2))\n",
    "print('Final encoder loss %.2e' % (loss))"
   ]
  },
  {
   "cell_type": "code",
   "execution_count": 20,
   "metadata": {
    "collapsed": false,
    "deletable": true,
    "editable": true,
    "jupyter": {
     "outputs_hidden": false
    }
   },
   "outputs": [],
   "source": [
    "# init diffusion net decoder units from pretrained autoencoders\n",
    "init = tf.constant(d_ae1.get_weights()[0])\n",
    "D_W1 = tf.Variable(init)\n",
    "init = tf.constant(d_ae1.get_weights()[1])\n",
    "D_b1 = tf.Variable(init)\n",
    "init = tf.constant(d_ae2.get_weights()[0])\n",
    "D_W2 = tf.Variable(init)\n",
    "init = tf.constant(d_ae2.get_weights()[1])\n",
    "D_b2 = tf.Variable(init)\n",
    "init = tf.constant(d_reg3.layers[1].get_weights()[0])\n",
    "D_W3 = tf.Variable(init)\n",
    "\n",
    "theta_D = [D_W1, D_W2, D_W3, D_b1, D_b2]\n",
    "\n",
    "def decoder(z):\n",
    "    h1 = tf.nn.sigmoid(tf.matmul(z, D_W1) + D_b1)\n",
    "    h2 = tf.nn.sigmoid(tf.matmul(h1, D_W2) + D_b2)\n",
    "    h3 = tf.matmul(h2, D_W3)\n",
    "    return h3\n",
    "\n",
    "# set input and output placeholders\n",
    "Y = tf.placeholder(tf.float32, shape=[None, embedding_size])\n",
    "R = decoder(Y)\n",
    "\n",
    "# set decoder loss\n",
    "decoder_reg = tf.nn.l2_loss(D_W3) #+tf.nn.l2_loss(D_W1) + tf.nn.l2_loss(D_W2)\n",
    "decoder_loss = tf.reduce_mean(tf.square(X-R)) + reg_par*decoder_reg\n"
   ]
  },
  {
   "cell_type": "code",
   "execution_count": 21,
   "metadata": {
    "collapsed": true,
    "jupyter": {
     "outputs_hidden": true
    }
   },
   "outputs": [],
   "source": [
    "D_solver = (tf.train.AdamOptimizer(learning_rate=learning_rate)\n",
    "            .minimize(decoder_loss, var_list=theta_D))\n",
    "\n",
    "sessD.run(tf.global_variables_initializer())\n"
   ]
  },
  {
   "cell_type": "code",
   "execution_count": 22,
   "metadata": {
    "collapsed": false,
    "jupyter": {
     "outputs_hidden": false
    }
   },
   "outputs": [
    {
     "name": "stdout",
     "output_type": "stream",
     "text": [
      "Initial decoder loss 7.22e-01\n",
      "Decoder loss 3.65e-01\n"
     ]
    }
   ],
   "source": [
    "# train decoder\n",
    "r = sessD.run(R, feed_dict={Y:embed_train})\n",
    "\n",
    "loss = np.mean(np.sum(np.abs(patches_train - r)**2,axis=1)**(1./2))\n",
    "print('Initial decoder loss %.2e' % (loss))\n",
    "for iter in range(n_iters):\n",
    "    _ = sessD.run(D_solver, feed_dict={X: patches_train, Y:embed_train})\n",
    "\n",
    "r = sessD.run(R, feed_dict={Y:embed_train})\n",
    "\n",
    "loss = np.mean(np.sum(np.abs(patches_train - r)**2,axis=1)**(1./2))\n",
    "print('Decoder loss %.2e' % (loss))"
   ]
  },
  {
   "cell_type": "markdown",
   "metadata": {},
   "source": [
    "Stack encoder and decoder\n",
    "\n",
    "Auto-encode for all patches\n",
    "\n",
    "Reconstruction error of every patch relative to avergae reconstruction error of the training patches is the anomaly measure"
   ]
  },
  {
   "cell_type": "code",
   "execution_count": 23,
   "metadata": {
    "collapsed": false,
    "jupyter": {
     "outputs_hidden": false
    }
   },
   "outputs": [
    {
     "name": "stdout",
     "output_type": "stream",
     "text": [
      "Diffusion net mean training error 4.66e-01\n"
     ]
    }
   ],
   "source": [
    "r_train = sessD.run(R, feed_dict={Y:z})\n",
    "loss = (np.sum(np.abs(patches_train - r_train)**2,axis=1)**(1./2))\n",
    "mean_train_loss = np.mean(loss)\n",
    "print('Diffusion net mean training error %.2e' % (mean_train_loss))"
   ]
  },
  {
   "cell_type": "code",
   "execution_count": 24,
   "metadata": {
    "collapsed": false,
    "jupyter": {
     "outputs_hidden": false
    }
   },
   "outputs": [
    {
     "name": "stdout",
     "output_type": "stream",
     "text": [
      "Diffusion net mean error 4.73e-01\n"
     ]
    }
   ],
   "source": [
    "z_all = sess.run(Z, feed_dict={X: patches})\n",
    "r_all = sessD.run(R, feed_dict={Y:z_all})\n",
    "loss = (np.sum(np.abs(patches - r_all)**2,axis=1)**(1./2))\n",
    "mean_loss = np.mean(loss)\n",
    "print('Diffusion net mean error %.2e' % (mean_loss))"
   ]
  },
  {
   "cell_type": "code",
   "execution_count": 25,
   "metadata": {
    "collapsed": false,
    "jupyter": {
     "outputs_hidden": false
    }
   },
   "outputs": [
    {
     "data": {
      "image/png": "[encoded data removed]",
      "text/plain": [
       "<matplotlib.figure.Figure at 0x11a46c310>"
      ]
     },
     "metadata": {},
     "output_type": "display_data"
    }
   ],
   "source": [
    "loss = loss / mean_train_loss\n",
    "plt.imshow(loss.reshape(nrows-patch_size+1, ncols-patch_size+1),cmap='jet')\n",
    "plt.colorbar()\n",
    "plt.show()"
   ]
  },
  {
   "cell_type": "code",
   "execution_count": null,
   "metadata": {
    "collapsed": true,
    "jupyter": {
     "outputs_hidden": true
    }
   },
   "outputs": [],
   "source": []
  }
 ],
 "metadata": {
  "kernelspec": {
   "display_name": "Python 3",
   "language": "python",
   "name": "python3"
  },
  "language_info": {
   "codemirror_mode": {
    "name": "ipython",
    "version": 3
   },
   "file_extension": ".py",
   "mimetype": "text/x-python",
   "name": "python",
   "nbconvert_exporter": "python",
   "pygments_lexer": "ipython3",
   "version": "3.7.9"
  }
 },
 "nbformat": 4,
 "nbformat_minor": 4
}
