{
 "cells": [
  {
   "cell_type": "code",
   "execution_count": 1,
   "id": "vulnerable-beast",
   "metadata": {},
   "outputs": [],
   "source": [
    "from FADS_SRP.models import supervised_autoencoder, nn, lr\n",
    "from FADS_SRP.input import get_dsets_\n",
    "from FADS_SRP.auc import calculate_auc\n",
    "from FADS_SRP.thresholding import *\n",
    "\n",
    "import matplotlib.pyplot as plt\n",
    "from tqdm.auto import tqdm\n",
    "from sklearn.svm import SVC\n",
    "import silence_tensorflow.auto\n",
    "from pandas import DataFrame\n",
    "\n",
    "\n",
    "def get_dset(h2s, sim_i):\n",
    "    P = f\"/home/shussain/Simulated_data/28062021/{h2s}/simulation_output{sim_i}/PS/output/\"\n",
    "    return get_dsets_(P)"
   ]
  },
  {
   "cell_type": "code",
   "execution_count": 2,
   "id": "confidential-andorra",
   "metadata": {},
   "outputs": [
    {
     "data": {
      "application/vnd.jupyter.widget-view+json": {
       "model_id": "fe187b92fda74a15b7d677595e335ace",
       "version_major": 2,
       "version_minor": 0
      },
      "text/plain": [
       "h2s:   0%|          | 0/5 [00:00<?, ?it/s]"
      ]
     },
     "metadata": {},
     "output_type": "display_data"
    },
    {
     "data": {
      "application/vnd.jupyter.widget-view+json": {
       "model_id": "680788b593694b3cbd30d577fde3e391",
       "version_major": 2,
       "version_minor": 0
      },
      "text/plain": [
       "sim_out:   0%|          | 0/10 [00:00<?, ?it/s]"
      ]
     },
     "metadata": {},
     "output_type": "display_data"
    },
    {
     "data": {
      "application/vnd.jupyter.widget-view+json": {
       "model_id": "424bd25c6cea43d3bb0c8d5eaa2fdd12",
       "version_major": 2,
       "version_minor": 0
      },
      "text/plain": [
       "k:   0%|          | 0/4 [00:00<?, ?it/s]"
      ]
     },
     "metadata": {},
     "output_type": "display_data"
    },
    {
     "data": {
      "application/vnd.jupyter.widget-view+json": {
       "model_id": "1f7398b25c4940cd8e01735dea4e5a91",
       "version_major": 2,
       "version_minor": 0
      },
      "text/plain": [
       "generating p values:   0%|          | 0/1000 [00:00<?, ?it/s]"
      ]
     },
     "metadata": {},
     "output_type": "display_data"
    },
    {
     "data": {
      "application/vnd.jupyter.widget-view+json": {
       "model_id": "5b9c24cf62a74b92ae124ce3e659c659",
       "version_major": 2,
       "version_minor": 0
      },
      "text/plain": [
       "k:   0%|          | 0/4 [00:00<?, ?it/s]"
      ]
     },
     "metadata": {},
     "output_type": "display_data"
    },
    {
     "data": {
      "application/vnd.jupyter.widget-view+json": {
       "model_id": "27b38bde88f94b9fa6a82e6e3460ac36",
       "version_major": 2,
       "version_minor": 0
      },
      "text/plain": [
       "generating p values:   0%|          | 0/1000 [00:00<?, ?it/s]"
      ]
     },
     "metadata": {},
     "output_type": "display_data"
    },
    {
     "data": {
      "application/vnd.jupyter.widget-view+json": {
       "model_id": "e0b1a097b32a4e86b504fd86c4fe4383",
       "version_major": 2,
       "version_minor": 0
      },
      "text/plain": [
       "k:   0%|          | 0/4 [00:00<?, ?it/s]"
      ]
     },
     "metadata": {},
     "output_type": "display_data"
    },
    {
     "data": {
      "application/vnd.jupyter.widget-view+json": {
       "model_id": "fa4da6d7b909479ea3752c7360874bf0",
       "version_major": 2,
       "version_minor": 0
      },
      "text/plain": [
       "generating p values:   0%|          | 0/1000 [00:00<?, ?it/s]"
      ]
     },
     "metadata": {},
     "output_type": "display_data"
    },
    {
     "data": {
      "application/vnd.jupyter.widget-view+json": {
       "model_id": "7471dfd6e10a40c58959982b8e7cb9b1",
       "version_major": 2,
       "version_minor": 0
      },
      "text/plain": [
       "k:   0%|          | 0/4 [00:00<?, ?it/s]"
      ]
     },
     "metadata": {},
     "output_type": "display_data"
    },
    {
     "data": {
      "application/vnd.jupyter.widget-view+json": {
       "model_id": "0407deff3842463794a9874261ada833",
       "version_major": 2,
       "version_minor": 0
      },
      "text/plain": [
       "generating p values:   0%|          | 0/1000 [00:00<?, ?it/s]"
      ]
     },
     "metadata": {},
     "output_type": "display_data"
    },
    {
     "data": {
      "application/vnd.jupyter.widget-view+json": {
       "model_id": "b7d33116c6fc4cf0bcd547c730b8f4a6",
       "version_major": 2,
       "version_minor": 0
      },
      "text/plain": [
       "k:   0%|          | 0/4 [00:00<?, ?it/s]"
      ]
     },
     "metadata": {},
     "output_type": "display_data"
    },
    {
     "data": {
      "application/vnd.jupyter.widget-view+json": {
       "model_id": "7a05cec5e3a14fb9a919b3baa8aded7e",
       "version_major": 2,
       "version_minor": 0
      },
      "text/plain": [
       "generating p values:   0%|          | 0/1000 [00:00<?, ?it/s]"
      ]
     },
     "metadata": {},
     "output_type": "display_data"
    },
    {
     "data": {
      "application/vnd.jupyter.widget-view+json": {
       "model_id": "8abe490c88fc4f448b6d335a092e0629",
       "version_major": 2,
       "version_minor": 0
      },
      "text/plain": [
       "k:   0%|          | 0/4 [00:00<?, ?it/s]"
      ]
     },
     "metadata": {},
     "output_type": "display_data"
    },
    {
     "data": {
      "application/vnd.jupyter.widget-view+json": {
       "model_id": "47f2c2517ad54da782af56f6ecc3d2ab",
       "version_major": 2,
       "version_minor": 0
      },
      "text/plain": [
       "generating p values:   0%|          | 0/1000 [00:00<?, ?it/s]"
      ]
     },
     "metadata": {},
     "output_type": "display_data"
    },
    {
     "data": {
      "application/vnd.jupyter.widget-view+json": {
       "model_id": "0ab6e5290f3141c1b845b727ee9494d4",
       "version_major": 2,
       "version_minor": 0
      },
      "text/plain": [
       "k:   0%|          | 0/4 [00:00<?, ?it/s]"
      ]
     },
     "metadata": {},
     "output_type": "display_data"
    },
    {
     "data": {
      "application/vnd.jupyter.widget-view+json": {
       "model_id": "bf87c9c16eda4342bd9ec2bbbf717c2a",
       "version_major": 2,
       "version_minor": 0
      },
      "text/plain": [
       "generating p values:   0%|          | 0/1000 [00:00<?, ?it/s]"
      ]
     },
     "metadata": {},
     "output_type": "display_data"
    },
    {
     "data": {
      "application/vnd.jupyter.widget-view+json": {
       "model_id": "8f76bc6cfd7940789b1fe4f08aa5fb6b",
       "version_major": 2,
       "version_minor": 0
      },
      "text/plain": [
       "k:   0%|          | 0/4 [00:00<?, ?it/s]"
      ]
     },
     "metadata": {},
     "output_type": "display_data"
    },
    {
     "data": {
      "application/vnd.jupyter.widget-view+json": {
       "model_id": "e413bfbfb6e849119175034795f1f7a2",
       "version_major": 2,
       "version_minor": 0
      },
      "text/plain": [
       "generating p values:   0%|          | 0/1000 [00:00<?, ?it/s]"
      ]
     },
     "metadata": {},
     "output_type": "display_data"
    },
    {
     "data": {
      "application/vnd.jupyter.widget-view+json": {
       "model_id": "373a4b074c09454c814f0a33cfcf93cd",
       "version_major": 2,
       "version_minor": 0
      },
      "text/plain": [
       "k:   0%|          | 0/4 [00:00<?, ?it/s]"
      ]
     },
     "metadata": {},
     "output_type": "display_data"
    },
    {
     "data": {
      "application/vnd.jupyter.widget-view+json": {
       "model_id": "38ac089348b24bd7a8ffecad6ed6df86",
       "version_major": 2,
       "version_minor": 0
      },
      "text/plain": [
       "generating p values:   0%|          | 0/1000 [00:00<?, ?it/s]"
      ]
     },
     "metadata": {},
     "output_type": "display_data"
    },
    {
     "data": {
      "application/vnd.jupyter.widget-view+json": {
       "model_id": "5d55874c643e4aa096d066594f4df356",
       "version_major": 2,
       "version_minor": 0
      },
      "text/plain": [
       "k:   0%|          | 0/4 [00:00<?, ?it/s]"
      ]
     },
     "metadata": {},
     "output_type": "display_data"
    },
    {
     "data": {
      "application/vnd.jupyter.widget-view+json": {
       "model_id": "aed44730d41845378ce78b3e8677c7a7",
       "version_major": 2,
       "version_minor": 0
      },
      "text/plain": [
       "sim_out:   0%|          | 0/10 [00:00<?, ?it/s]"
      ]
     },
     "metadata": {},
     "output_type": "display_data"
    },
    {
     "data": {
      "application/vnd.jupyter.widget-view+json": {
       "model_id": "83ee2913fa26400dbfc0435d6dc96e62",
       "version_major": 2,
       "version_minor": 0
      },
      "text/plain": [
       "generating p values:   0%|          | 0/1000 [00:00<?, ?it/s]"
      ]
     },
     "metadata": {},
     "output_type": "display_data"
    },
    {
     "data": {
      "application/vnd.jupyter.widget-view+json": {
       "model_id": "a0060b85307249a8a0876ae325d02dcb",
       "version_major": 2,
       "version_minor": 0
      },
      "text/plain": [
       "k:   0%|          | 0/4 [00:00<?, ?it/s]"
      ]
     },
     "metadata": {},
     "output_type": "display_data"
    },
    {
     "data": {
      "application/vnd.jupyter.widget-view+json": {
       "model_id": "d82ee72806294dc38a638de2a3f572c8",
       "version_major": 2,
       "version_minor": 0
      },
      "text/plain": [
       "generating p values:   0%|          | 0/1000 [00:00<?, ?it/s]"
      ]
     },
     "metadata": {},
     "output_type": "display_data"
    },
    {
     "data": {
      "application/vnd.jupyter.widget-view+json": {
       "model_id": "a021c9d54c574b6fabdf105315ad8cf2",
       "version_major": 2,
       "version_minor": 0
      },
      "text/plain": [
       "k:   0%|          | 0/4 [00:00<?, ?it/s]"
      ]
     },
     "metadata": {},
     "output_type": "display_data"
    },
    {
     "data": {
      "application/vnd.jupyter.widget-view+json": {
       "model_id": "4b8026a1fa434be783a625d1e2b207f1",
       "version_major": 2,
       "version_minor": 0
      },
      "text/plain": [
       "generating p values:   0%|          | 0/1000 [00:00<?, ?it/s]"
      ]
     },
     "metadata": {},
     "output_type": "display_data"
    },
    {
     "data": {
      "application/vnd.jupyter.widget-view+json": {
       "model_id": "8e48125adb2a47409bee7b60e1bd2b10",
       "version_major": 2,
       "version_minor": 0
      },
      "text/plain": [
       "k:   0%|          | 0/4 [00:00<?, ?it/s]"
      ]
     },
     "metadata": {},
     "output_type": "display_data"
    },
    {
     "data": {
      "application/vnd.jupyter.widget-view+json": {
       "model_id": "c2b02a66176641b0b1879e10836562a7",
       "version_major": 2,
       "version_minor": 0
      },
      "text/plain": [
       "generating p values:   0%|          | 0/1000 [00:00<?, ?it/s]"
      ]
     },
     "metadata": {},
     "output_type": "display_data"
    },
    {
     "data": {
      "application/vnd.jupyter.widget-view+json": {
       "model_id": "ef1a414e22784f6c90040d81239bcf20",
       "version_major": 2,
       "version_minor": 0
      },
      "text/plain": [
       "k:   0%|          | 0/4 [00:00<?, ?it/s]"
      ]
     },
     "metadata": {},
     "output_type": "display_data"
    },
    {
     "data": {
      "application/vnd.jupyter.widget-view+json": {
       "model_id": "cf75a57e442540fab515869bf86c52dd",
       "version_major": 2,
       "version_minor": 0
      },
      "text/plain": [
       "generating p values:   0%|          | 0/1000 [00:00<?, ?it/s]"
      ]
     },
     "metadata": {},
     "output_type": "display_data"
    },
    {
     "data": {
      "application/vnd.jupyter.widget-view+json": {
       "model_id": "091c323ebdfb432e95d58a89d5c9ab4e",
       "version_major": 2,
       "version_minor": 0
      },
      "text/plain": [
       "k:   0%|          | 0/4 [00:00<?, ?it/s]"
      ]
     },
     "metadata": {},
     "output_type": "display_data"
    },
    {
     "data": {
      "application/vnd.jupyter.widget-view+json": {
       "model_id": "d9ff8aab28dd40ff88998d4d33e5c50c",
       "version_major": 2,
       "version_minor": 0
      },
      "text/plain": [
       "generating p values:   0%|          | 0/1000 [00:00<?, ?it/s]"
      ]
     },
     "metadata": {},
     "output_type": "display_data"
    },
    {
     "data": {
      "application/vnd.jupyter.widget-view+json": {
       "model_id": "5da663f07ee44ea194436141f4bc8d52",
       "version_major": 2,
       "version_minor": 0
      },
      "text/plain": [
       "k:   0%|          | 0/4 [00:00<?, ?it/s]"
      ]
     },
     "metadata": {},
     "output_type": "display_data"
    },
    {
     "data": {
      "application/vnd.jupyter.widget-view+json": {
       "model_id": "1f1150518b2842a2901e4a59caf24bcb",
       "version_major": 2,
       "version_minor": 0
      },
      "text/plain": [
       "generating p values:   0%|          | 0/1000 [00:00<?, ?it/s]"
      ]
     },
     "metadata": {},
     "output_type": "display_data"
    },
    {
     "data": {
      "application/vnd.jupyter.widget-view+json": {
       "model_id": "19d2d29537e449baae19e25ff7f977ba",
       "version_major": 2,
       "version_minor": 0
      },
      "text/plain": [
       "k:   0%|          | 0/4 [00:00<?, ?it/s]"
      ]
     },
     "metadata": {},
     "output_type": "display_data"
    },
    {
     "data": {
      "application/vnd.jupyter.widget-view+json": {
       "model_id": "2926f0cc06e94037b7854275492695e1",
       "version_major": 2,
       "version_minor": 0
      },
      "text/plain": [
       "generating p values:   0%|          | 0/1000 [00:00<?, ?it/s]"
      ]
     },
     "metadata": {},
     "output_type": "display_data"
    },
    {
     "data": {
      "application/vnd.jupyter.widget-view+json": {
       "model_id": "f60a7f79353348c293bd0bb3aeb4f97f",
       "version_major": 2,
       "version_minor": 0
      },
      "text/plain": [
       "k:   0%|          | 0/4 [00:00<?, ?it/s]"
      ]
     },
     "metadata": {},
     "output_type": "display_data"
    },
    {
     "data": {
      "application/vnd.jupyter.widget-view+json": {
       "model_id": "f4db633674d845f3b91270bebeb3e48a",
       "version_major": 2,
       "version_minor": 0
      },
      "text/plain": [
       "generating p values:   0%|          | 0/1000 [00:00<?, ?it/s]"
      ]
     },
     "metadata": {},
     "output_type": "display_data"
    },
    {
     "data": {
      "application/vnd.jupyter.widget-view+json": {
       "model_id": "b6fdfa6c1c84437188c022baa5dbcfb9",
       "version_major": 2,
       "version_minor": 0
      },
      "text/plain": [
       "k:   0%|          | 0/4 [00:00<?, ?it/s]"
      ]
     },
     "metadata": {},
     "output_type": "display_data"
    },
    {
     "data": {
      "application/vnd.jupyter.widget-view+json": {
       "model_id": "ddf68f947bd84e1c8c1c117b3fdfbc1f",
       "version_major": 2,
       "version_minor": 0
      },
      "text/plain": [
       "generating p values:   0%|          | 0/1000 [00:00<?, ?it/s]"
      ]
     },
     "metadata": {},
     "output_type": "display_data"
    },
    {
     "data": {
      "application/vnd.jupyter.widget-view+json": {
       "model_id": "5d8ebd8fb9e9462a96c56b918d0c6c5d",
       "version_major": 2,
       "version_minor": 0
      },
      "text/plain": [
       "k:   0%|          | 0/4 [00:00<?, ?it/s]"
      ]
     },
     "metadata": {},
     "output_type": "display_data"
    },
    {
     "data": {
      "application/vnd.jupyter.widget-view+json": {
       "model_id": "9a5ffca0648a4a41807823a289045d35",
       "version_major": 2,
       "version_minor": 0
      },
      "text/plain": [
       "sim_out:   0%|          | 0/10 [00:00<?, ?it/s]"
      ]
     },
     "metadata": {},
     "output_type": "display_data"
    },
    {
     "data": {
      "application/vnd.jupyter.widget-view+json": {
       "model_id": "21dd484be66e4653bc129eb9f5b894fa",
       "version_major": 2,
       "version_minor": 0
      },
      "text/plain": [
       "generating p values:   0%|          | 0/1000 [00:00<?, ?it/s]"
      ]
     },
     "metadata": {},
     "output_type": "display_data"
    },
    {
     "data": {
      "application/vnd.jupyter.widget-view+json": {
       "model_id": "03903debb920411ba6f38a3d9e4c53a9",
       "version_major": 2,
       "version_minor": 0
      },
      "text/plain": [
       "k:   0%|          | 0/4 [00:00<?, ?it/s]"
      ]
     },
     "metadata": {},
     "output_type": "display_data"
    },
    {
     "data": {
      "application/vnd.jupyter.widget-view+json": {
       "model_id": "77d071cc23ad4a8c872dc9640fe45264",
       "version_major": 2,
       "version_minor": 0
      },
      "text/plain": [
       "generating p values:   0%|          | 0/1000 [00:00<?, ?it/s]"
      ]
     },
     "metadata": {},
     "output_type": "display_data"
    },
    {
     "data": {
      "application/vnd.jupyter.widget-view+json": {
       "model_id": "7e6634f8485840c4925df6f235587519",
       "version_major": 2,
       "version_minor": 0
      },
      "text/plain": [
       "k:   0%|          | 0/4 [00:00<?, ?it/s]"
      ]
     },
     "metadata": {},
     "output_type": "display_data"
    },
    {
     "data": {
      "application/vnd.jupyter.widget-view+json": {
       "model_id": "f6ef4cd7563949809411d36239d25e51",
       "version_major": 2,
       "version_minor": 0
      },
      "text/plain": [
       "generating p values:   0%|          | 0/1000 [00:00<?, ?it/s]"
      ]
     },
     "metadata": {},
     "output_type": "display_data"
    },
    {
     "data": {
      "application/vnd.jupyter.widget-view+json": {
       "model_id": "fdfdec7f89b0487d840c15d9dad899e2",
       "version_major": 2,
       "version_minor": 0
      },
      "text/plain": [
       "k:   0%|          | 0/4 [00:00<?, ?it/s]"
      ]
     },
     "metadata": {},
     "output_type": "display_data"
    },
    {
     "data": {
      "application/vnd.jupyter.widget-view+json": {
       "model_id": "eda549cee54440eabbf88c1d529e3a80",
       "version_major": 2,
       "version_minor": 0
      },
      "text/plain": [
       "generating p values:   0%|          | 0/1000 [00:00<?, ?it/s]"
      ]
     },
     "metadata": {},
     "output_type": "display_data"
    },
    {
     "data": {
      "application/vnd.jupyter.widget-view+json": {
       "model_id": "3e04f054469246d7a3e30acdcca939f9",
       "version_major": 2,
       "version_minor": 0
      },
      "text/plain": [
       "k:   0%|          | 0/4 [00:00<?, ?it/s]"
      ]
     },
     "metadata": {},
     "output_type": "display_data"
    },
    {
     "data": {
      "application/vnd.jupyter.widget-view+json": {
       "model_id": "291e73b7935440db885190c87524a8d5",
       "version_major": 2,
       "version_minor": 0
      },
      "text/plain": [
       "generating p values:   0%|          | 0/1000 [00:00<?, ?it/s]"
      ]
     },
     "metadata": {},
     "output_type": "display_data"
    },
    {
     "data": {
      "application/vnd.jupyter.widget-view+json": {
       "model_id": "bb23d753c27747d8988d4ccfc1e11fca",
       "version_major": 2,
       "version_minor": 0
      },
      "text/plain": [
       "k:   0%|          | 0/4 [00:00<?, ?it/s]"
      ]
     },
     "metadata": {},
     "output_type": "display_data"
    },
    {
     "data": {
      "application/vnd.jupyter.widget-view+json": {
       "model_id": "2a37fec092844477b762c3844d3aed85",
       "version_major": 2,
       "version_minor": 0
      },
      "text/plain": [
       "generating p values:   0%|          | 0/1000 [00:00<?, ?it/s]"
      ]
     },
     "metadata": {},
     "output_type": "display_data"
    },
    {
     "data": {
      "application/vnd.jupyter.widget-view+json": {
       "model_id": "0a2a931dbc334da1890c2dcdc3cc7d85",
       "version_major": 2,
       "version_minor": 0
      },
      "text/plain": [
       "k:   0%|          | 0/4 [00:00<?, ?it/s]"
      ]
     },
     "metadata": {},
     "output_type": "display_data"
    },
    {
     "data": {
      "application/vnd.jupyter.widget-view+json": {
       "model_id": "8d4b8d3413824d55b54f89ac3dd1693d",
       "version_major": 2,
       "version_minor": 0
      },
      "text/plain": [
       "generating p values:   0%|          | 0/1000 [00:00<?, ?it/s]"
      ]
     },
     "metadata": {},
     "output_type": "display_data"
    },
    {
     "data": {
      "application/vnd.jupyter.widget-view+json": {
       "model_id": "07f1488e41ec424a844d87df07e7e9f0",
       "version_major": 2,
       "version_minor": 0
      },
      "text/plain": [
       "k:   0%|          | 0/4 [00:00<?, ?it/s]"
      ]
     },
     "metadata": {},
     "output_type": "display_data"
    },
    {
     "data": {
      "application/vnd.jupyter.widget-view+json": {
       "model_id": "b4cabb73fce14ae699299fb88263a71c",
       "version_major": 2,
       "version_minor": 0
      },
      "text/plain": [
       "generating p values:   0%|          | 0/1000 [00:00<?, ?it/s]"
      ]
     },
     "metadata": {},
     "output_type": "display_data"
    },
    {
     "data": {
      "application/vnd.jupyter.widget-view+json": {
       "model_id": "d3305e6499cb42ea9903f42adc96b05a",
       "version_major": 2,
       "version_minor": 0
      },
      "text/plain": [
       "k:   0%|          | 0/4 [00:00<?, ?it/s]"
      ]
     },
     "metadata": {},
     "output_type": "display_data"
    },
    {
     "data": {
      "application/vnd.jupyter.widget-view+json": {
       "model_id": "eaf69104dc7d47f497bb4946bc3fcba2",
       "version_major": 2,
       "version_minor": 0
      },
      "text/plain": [
       "generating p values:   0%|          | 0/1000 [00:00<?, ?it/s]"
      ]
     },
     "metadata": {},
     "output_type": "display_data"
    },
    {
     "data": {
      "application/vnd.jupyter.widget-view+json": {
       "model_id": "f64aa839c0a84a62b384227f915962ab",
       "version_major": 2,
       "version_minor": 0
      },
      "text/plain": [
       "k:   0%|          | 0/4 [00:00<?, ?it/s]"
      ]
     },
     "metadata": {},
     "output_type": "display_data"
    },
    {
     "data": {
      "application/vnd.jupyter.widget-view+json": {
       "model_id": "ec50d1acfc92416b99f00cc1dc5b34ba",
       "version_major": 2,
       "version_minor": 0
      },
      "text/plain": [
       "generating p values:   0%|          | 0/1000 [00:00<?, ?it/s]"
      ]
     },
     "metadata": {},
     "output_type": "display_data"
    },
    {
     "data": {
      "application/vnd.jupyter.widget-view+json": {
       "model_id": "5e93c0d885204a75838a756b08aa588b",
       "version_major": 2,
       "version_minor": 0
      },
      "text/plain": [
       "k:   0%|          | 0/4 [00:00<?, ?it/s]"
      ]
     },
     "metadata": {},
     "output_type": "display_data"
    },
    {
     "data": {
      "application/vnd.jupyter.widget-view+json": {
       "model_id": "5c39cd02618b4d6ca22c35d4cc5519a0",
       "version_major": 2,
       "version_minor": 0
      },
      "text/plain": [
       "sim_out:   0%|          | 0/10 [00:00<?, ?it/s]"
      ]
     },
     "metadata": {},
     "output_type": "display_data"
    },
    {
     "data": {
      "application/vnd.jupyter.widget-view+json": {
       "model_id": "fcc64f0089034d9aadadb5a4e34066e4",
       "version_major": 2,
       "version_minor": 0
      },
      "text/plain": [
       "generating p values:   0%|          | 0/1000 [00:00<?, ?it/s]"
      ]
     },
     "metadata": {},
     "output_type": "display_data"
    },
    {
     "data": {
      "application/vnd.jupyter.widget-view+json": {
       "model_id": "11417c6c1e8d4a50811b4239e9f2ecb4",
       "version_major": 2,
       "version_minor": 0
      },
      "text/plain": [
       "k:   0%|          | 0/4 [00:00<?, ?it/s]"
      ]
     },
     "metadata": {},
     "output_type": "display_data"
    },
    {
     "data": {
      "application/vnd.jupyter.widget-view+json": {
       "model_id": "61e645e43c8d47d391cd7b310d2824fb",
       "version_major": 2,
       "version_minor": 0
      },
      "text/plain": [
       "generating p values:   0%|          | 0/1000 [00:00<?, ?it/s]"
      ]
     },
     "metadata": {},
     "output_type": "display_data"
    },
    {
     "data": {
      "application/vnd.jupyter.widget-view+json": {
       "model_id": "c44a14923fa1453e9820ed254d9fe001",
       "version_major": 2,
       "version_minor": 0
      },
      "text/plain": [
       "k:   0%|          | 0/4 [00:00<?, ?it/s]"
      ]
     },
     "metadata": {},
     "output_type": "display_data"
    },
    {
     "data": {
      "application/vnd.jupyter.widget-view+json": {
       "model_id": "3f2a4478f19749ca9e5d841ff73db140",
       "version_major": 2,
       "version_minor": 0
      },
      "text/plain": [
       "generating p values:   0%|          | 0/1000 [00:00<?, ?it/s]"
      ]
     },
     "metadata": {},
     "output_type": "display_data"
    },
    {
     "data": {
      "application/vnd.jupyter.widget-view+json": {
       "model_id": "b98356f8498f41a695a302c73d75a561",
       "version_major": 2,
       "version_minor": 0
      },
      "text/plain": [
       "k:   0%|          | 0/4 [00:00<?, ?it/s]"
      ]
     },
     "metadata": {},
     "output_type": "display_data"
    },
    {
     "data": {
      "application/vnd.jupyter.widget-view+json": {
       "model_id": "26f53942a9094f8a9680dfceeef67010",
       "version_major": 2,
       "version_minor": 0
      },
      "text/plain": [
       "generating p values:   0%|          | 0/1000 [00:00<?, ?it/s]"
      ]
     },
     "metadata": {},
     "output_type": "display_data"
    },
    {
     "data": {
      "application/vnd.jupyter.widget-view+json": {
       "model_id": "cb4ae3ad3d9745959d92251387160f97",
       "version_major": 2,
       "version_minor": 0
      },
      "text/plain": [
       "k:   0%|          | 0/4 [00:00<?, ?it/s]"
      ]
     },
     "metadata": {},
     "output_type": "display_data"
    },
    {
     "data": {
      "application/vnd.jupyter.widget-view+json": {
       "model_id": "564f38d3acff4d61a841f5f12f214697",
       "version_major": 2,
       "version_minor": 0
      },
      "text/plain": [
       "generating p values:   0%|          | 0/1000 [00:00<?, ?it/s]"
      ]
     },
     "metadata": {},
     "output_type": "display_data"
    },
    {
     "data": {
      "application/vnd.jupyter.widget-view+json": {
       "model_id": "d7918094b0e641f5a0da2633d0bf3edb",
       "version_major": 2,
       "version_minor": 0
      },
      "text/plain": [
       "k:   0%|          | 0/4 [00:00<?, ?it/s]"
      ]
     },
     "metadata": {},
     "output_type": "display_data"
    },
    {
     "data": {
      "application/vnd.jupyter.widget-view+json": {
       "model_id": "8a23a40bcc3d463f983fc5689018f53a",
       "version_major": 2,
       "version_minor": 0
      },
      "text/plain": [
       "generating p values:   0%|          | 0/1000 [00:00<?, ?it/s]"
      ]
     },
     "metadata": {},
     "output_type": "display_data"
    },
    {
     "data": {
      "application/vnd.jupyter.widget-view+json": {
       "model_id": "e023b18f3bfb4fa88fbcb2e951c630f5",
       "version_major": 2,
       "version_minor": 0
      },
      "text/plain": [
       "k:   0%|          | 0/4 [00:00<?, ?it/s]"
      ]
     },
     "metadata": {},
     "output_type": "display_data"
    },
    {
     "data": {
      "application/vnd.jupyter.widget-view+json": {
       "model_id": "3a06075b52dd424b96b1185082045db5",
       "version_major": 2,
       "version_minor": 0
      },
      "text/plain": [
       "generating p values:   0%|          | 0/1000 [00:00<?, ?it/s]"
      ]
     },
     "metadata": {},
     "output_type": "display_data"
    },
    {
     "data": {
      "application/vnd.jupyter.widget-view+json": {
       "model_id": "300d870f2d4d416e97733aa851b46f65",
       "version_major": 2,
       "version_minor": 0
      },
      "text/plain": [
       "k:   0%|          | 0/4 [00:00<?, ?it/s]"
      ]
     },
     "metadata": {},
     "output_type": "display_data"
    },
    {
     "data": {
      "application/vnd.jupyter.widget-view+json": {
       "model_id": "b5aef14802d94576afc2a676e8fe8f2d",
       "version_major": 2,
       "version_minor": 0
      },
      "text/plain": [
       "generating p values:   0%|          | 0/1000 [00:00<?, ?it/s]"
      ]
     },
     "metadata": {},
     "output_type": "display_data"
    },
    {
     "data": {
      "application/vnd.jupyter.widget-view+json": {
       "model_id": "33ec12043f7640f2811ef1f1e29d3670",
       "version_major": 2,
       "version_minor": 0
      },
      "text/plain": [
       "k:   0%|          | 0/4 [00:00<?, ?it/s]"
      ]
     },
     "metadata": {},
     "output_type": "display_data"
    },
    {
     "data": {
      "application/vnd.jupyter.widget-view+json": {
       "model_id": "9addb8ad7c274ddcbb4bc0274dc86c25",
       "version_major": 2,
       "version_minor": 0
      },
      "text/plain": [
       "generating p values:   0%|          | 0/1000 [00:00<?, ?it/s]"
      ]
     },
     "metadata": {},
     "output_type": "display_data"
    },
    {
     "data": {
      "application/vnd.jupyter.widget-view+json": {
       "model_id": "8cb2592474794d6faea656d7a0398e5a",
       "version_major": 2,
       "version_minor": 0
      },
      "text/plain": [
       "k:   0%|          | 0/4 [00:00<?, ?it/s]"
      ]
     },
     "metadata": {},
     "output_type": "display_data"
    },
    {
     "data": {
      "application/vnd.jupyter.widget-view+json": {
       "model_id": "4c3555659eff44778fb4a11a32970000",
       "version_major": 2,
       "version_minor": 0
      },
      "text/plain": [
       "generating p values:   0%|          | 0/1000 [00:00<?, ?it/s]"
      ]
     },
     "metadata": {},
     "output_type": "display_data"
    },
    {
     "data": {
      "application/vnd.jupyter.widget-view+json": {
       "model_id": "64a7376ae0e04917aa479f27889540b6",
       "version_major": 2,
       "version_minor": 0
      },
      "text/plain": [
       "k:   0%|          | 0/4 [00:00<?, ?it/s]"
      ]
     },
     "metadata": {},
     "output_type": "display_data"
    },
    {
     "data": {
      "application/vnd.jupyter.widget-view+json": {
       "model_id": "d1ee34276dfb4d1b9aac3a79086bd8ac",
       "version_major": 2,
       "version_minor": 0
      },
      "text/plain": [
       "sim_out:   0%|          | 0/10 [00:00<?, ?it/s]"
      ]
     },
     "metadata": {},
     "output_type": "display_data"
    },
    {
     "data": {
      "application/vnd.jupyter.widget-view+json": {
       "model_id": "68e004c2c7be46259b20b1a14b25a174",
       "version_major": 2,
       "version_minor": 0
      },
      "text/plain": [
       "generating p values:   0%|          | 0/1000 [00:00<?, ?it/s]"
      ]
     },
     "metadata": {},
     "output_type": "display_data"
    },
    {
     "data": {
      "application/vnd.jupyter.widget-view+json": {
       "model_id": "244948ee8d6148f4be2715afdee68d7b",
       "version_major": 2,
       "version_minor": 0
      },
      "text/plain": [
       "k:   0%|          | 0/4 [00:00<?, ?it/s]"
      ]
     },
     "metadata": {},
     "output_type": "display_data"
    },
    {
     "data": {
      "application/vnd.jupyter.widget-view+json": {
       "model_id": "bbbf6833717041a89be7e60cef76e377",
       "version_major": 2,
       "version_minor": 0
      },
      "text/plain": [
       "generating p values:   0%|          | 0/1000 [00:00<?, ?it/s]"
      ]
     },
     "metadata": {},
     "output_type": "display_data"
    },
    {
     "data": {
      "application/vnd.jupyter.widget-view+json": {
       "model_id": "dc5b875a9a86495fa6872c1622b7effd",
       "version_major": 2,
       "version_minor": 0
      },
      "text/plain": [
       "k:   0%|          | 0/4 [00:00<?, ?it/s]"
      ]
     },
     "metadata": {},
     "output_type": "display_data"
    },
    {
     "data": {
      "application/vnd.jupyter.widget-view+json": {
       "model_id": "33003ae2042f443888079b1b4703517f",
       "version_major": 2,
       "version_minor": 0
      },
      "text/plain": [
       "generating p values:   0%|          | 0/1000 [00:00<?, ?it/s]"
      ]
     },
     "metadata": {},
     "output_type": "display_data"
    },
    {
     "data": {
      "application/vnd.jupyter.widget-view+json": {
       "model_id": "45e550b38d3a48e2b585ffd67f3c1664",
       "version_major": 2,
       "version_minor": 0
      },
      "text/plain": [
       "k:   0%|          | 0/4 [00:00<?, ?it/s]"
      ]
     },
     "metadata": {},
     "output_type": "display_data"
    },
    {
     "data": {
      "application/vnd.jupyter.widget-view+json": {
       "model_id": "bd029c5403d44190ac63ad15d3f2961e",
       "version_major": 2,
       "version_minor": 0
      },
      "text/plain": [
       "generating p values:   0%|          | 0/1000 [00:00<?, ?it/s]"
      ]
     },
     "metadata": {},
     "output_type": "display_data"
    },
    {
     "data": {
      "application/vnd.jupyter.widget-view+json": {
       "model_id": "2b7f8012e3ea4742a5b41496572077d2",
       "version_major": 2,
       "version_minor": 0
      },
      "text/plain": [
       "k:   0%|          | 0/4 [00:00<?, ?it/s]"
      ]
     },
     "metadata": {},
     "output_type": "display_data"
    },
    {
     "data": {
      "application/vnd.jupyter.widget-view+json": {
       "model_id": "8c6c3f14dbd7472c90bcbf3c40125cda",
       "version_major": 2,
       "version_minor": 0
      },
      "text/plain": [
       "generating p values:   0%|          | 0/1000 [00:00<?, ?it/s]"
      ]
     },
     "metadata": {},
     "output_type": "display_data"
    },
    {
     "data": {
      "application/vnd.jupyter.widget-view+json": {
       "model_id": "1ce6c1ab2b964b3f99a7d7a9bdc7fa08",
       "version_major": 2,
       "version_minor": 0
      },
      "text/plain": [
       "k:   0%|          | 0/4 [00:00<?, ?it/s]"
      ]
     },
     "metadata": {},
     "output_type": "display_data"
    },
    {
     "data": {
      "application/vnd.jupyter.widget-view+json": {
       "model_id": "ef8596f088ca4ad59014aaee7b596200",
       "version_major": 2,
       "version_minor": 0
      },
      "text/plain": [
       "generating p values:   0%|          | 0/1000 [00:00<?, ?it/s]"
      ]
     },
     "metadata": {},
     "output_type": "display_data"
    },
    {
     "data": {
      "application/vnd.jupyter.widget-view+json": {
       "model_id": "ba1ccc40021a479188faf43db9f38350",
       "version_major": 2,
       "version_minor": 0
      },
      "text/plain": [
       "k:   0%|          | 0/4 [00:00<?, ?it/s]"
      ]
     },
     "metadata": {},
     "output_type": "display_data"
    },
    {
     "data": {
      "application/vnd.jupyter.widget-view+json": {
       "model_id": "9ecc8789fe734f47ad3e90c0bcce0155",
       "version_major": 2,
       "version_minor": 0
      },
      "text/plain": [
       "generating p values:   0%|          | 0/1000 [00:00<?, ?it/s]"
      ]
     },
     "metadata": {},
     "output_type": "display_data"
    },
    {
     "data": {
      "application/vnd.jupyter.widget-view+json": {
       "model_id": "7c55b467db154eb19c2473be1d229a1b",
       "version_major": 2,
       "version_minor": 0
      },
      "text/plain": [
       "k:   0%|          | 0/4 [00:00<?, ?it/s]"
      ]
     },
     "metadata": {},
     "output_type": "display_data"
    },
    {
     "data": {
      "application/vnd.jupyter.widget-view+json": {
       "model_id": "662d6665aacd42b5aeb969b3ab8eb291",
       "version_major": 2,
       "version_minor": 0
      },
      "text/plain": [
       "generating p values:   0%|          | 0/1000 [00:00<?, ?it/s]"
      ]
     },
     "metadata": {},
     "output_type": "display_data"
    },
    {
     "data": {
      "application/vnd.jupyter.widget-view+json": {
       "model_id": "187d7fb690d84879b43e3f697710531e",
       "version_major": 2,
       "version_minor": 0
      },
      "text/plain": [
       "k:   0%|          | 0/4 [00:00<?, ?it/s]"
      ]
     },
     "metadata": {},
     "output_type": "display_data"
    },
    {
     "data": {
      "application/vnd.jupyter.widget-view+json": {
       "model_id": "0f9d892a4ec94b02aa4c024b6a90f228",
       "version_major": 2,
       "version_minor": 0
      },
      "text/plain": [
       "generating p values:   0%|          | 0/1000 [00:00<?, ?it/s]"
      ]
     },
     "metadata": {},
     "output_type": "display_data"
    },
    {
     "data": {
      "application/vnd.jupyter.widget-view+json": {
       "model_id": "c7915ed63342482ba64722fd994c418f",
       "version_major": 2,
       "version_minor": 0
      },
      "text/plain": [
       "k:   0%|          | 0/4 [00:00<?, ?it/s]"
      ]
     },
     "metadata": {},
     "output_type": "display_data"
    },
    {
     "data": {
      "application/vnd.jupyter.widget-view+json": {
       "model_id": "6d159e9ba5dc4e94bca3baa1d4177fdd",
       "version_major": 2,
       "version_minor": 0
      },
      "text/plain": [
       "generating p values:   0%|          | 0/1000 [00:00<?, ?it/s]"
      ]
     },
     "metadata": {},
     "output_type": "display_data"
    },
    {
     "data": {
      "application/vnd.jupyter.widget-view+json": {
       "model_id": "c7a7e9cc4ca64ee982fbe50fed9e9711",
       "version_major": 2,
       "version_minor": 0
      },
      "text/plain": [
       "k:   0%|          | 0/4 [00:00<?, ?it/s]"
      ]
     },
     "metadata": {},
     "output_type": "display_data"
    }
   ],
   "source": [
    "path = \"/home/shussain/experiments/hapgen2-PS/\"\n",
    "with open(f\"{path}thresholding.csv\", 'w') as t:\n",
    "    t.writelines(\"h2s,simulation,k,p_svm,ae_svm,p_lr,ae_lr,p_nn,ae_nn\\n\")\n",
    "\n",
    "H2S = [0.05, 0.25, 0.5, 0.75, 1]\n",
    "K = [5, 25, 100, 300]    \n",
    "\n",
    "for h2s in tqdm(H2S, desc=\"h2s\"):\n",
    "    for i in trange(1, 11, desc=\"sim_out\"):\n",
    "        #get dataset\n",
    "        dset = get_dset(h2s, i)\n",
    "        #train sae\n",
    "        hist, ae = supervised_autoencoder(dset[\"X_train\"], dset[\"y_train\"], sizes=[300], \n",
    "                                         input_shape=1000, reconstruction_weight=0.3, \n",
    "                                         dropout=True, activation=\"relu\", l1=1e-2)\n",
    "        #generate sum of weights and add it to ct\n",
    "        dset[\"ct\"] = ae_ct(dset[\"ct\"], ae)        \n",
    "        \n",
    "        plt.clf()\n",
    "        manhattan_plot(dset[\"ct\"])\n",
    "        plt.savefig(f\"{path}/plots/simulation_output{i}/{h2s}/p_manhattan.jpeg\")\n",
    "        plt.clf()\n",
    "        ae_thresh_plot(dset[\"ct\"])\n",
    "        plt.savefig(f\"{path}plots/simulation_output{i}/{h2s}/ae_manhattan.jpeg\")\n",
    "        plt.close()\n",
    "        for k in tqdm(K, desc=\"k\"):\n",
    "            k_p_SNPs_index = get_n_SNPs(dset[\"ct\"], k)\n",
    "            k_ae_SNPs_index = ae_get_n_SNPs(dset[\"ct\"], k)\n",
    "            \n",
    "            #train SVM on p thresholded data\n",
    "            p_thresh_svm = SVC(probability=True)\n",
    "            p_thresh_svm.fit(dset[\"X_train\"][:, k_p_SNPs_index], dset[\"y_train\"][:, 1])\n",
    "\n",
    "            p_thresh_svm_auc = calculate_auc(\n",
    "                lambda X: p_thresh_svm.predict_proba(X)[:, 1],\n",
    "                dset[\"X_test\"][:, k_p_SNPs_index],\n",
    "                dset[\"y_test\"][:, 1]\n",
    "            )\n",
    "            #train SVM on ae thresholded data\n",
    "            ae_thresh_svm = SVC(probability=True)\n",
    "            ae_thresh_svm.fit(dset[\"X_train\"][:, k_ae_SNPs_index], dset[\"y_train\"][:, 1])\n",
    "\n",
    "            ae_thresh_svm_auc = calculate_auc(\n",
    "                lambda X: ae_thresh_svm.predict_proba(X)[:, 1],\n",
    "                dset[\"X_test\"][:, k_ae_SNPs_index],\n",
    "                dset[\"y_test\"][:, 1]\n",
    "            )\n",
    "            #train LR on p thresh data\n",
    "            hist, p_thresh_lr = lr(dset[\"X_train\"][:, k_p_SNPs_index], dset[\"y_train\"])\n",
    "\n",
    "            p_thresh_lr_auc = calculate_auc(\n",
    "                lambda X: p_thresh_lr.predict(X)[:, 1],\n",
    "                dset[\"X_test\"][:, k_p_SNPs_index],\n",
    "                dset[\"y_test\"][:, 1]\n",
    "            )\n",
    "            #train LR on ae thresh data\n",
    "            hist, ae_thresh_lr = lr(dset[\"X_train\"][:, k_ae_SNPs_index], dset[\"y_train\"])\n",
    "\n",
    "            ae_thresh_lr_auc = calculate_auc(\n",
    "                lambda X: ae_thresh_lr.predict(X)[:, 1],\n",
    "                dset[\"X_test\"][:, k_ae_SNPs_index],\n",
    "                dset[\"y_test\"][:, 1]\n",
    "            )\n",
    "\n",
    "            \n",
    "            with open(f\"{path}thresholding.csv\", 'a') as t:\n",
    "                t.writelines(f\"{h2s},{i},{k},{p_thresh_svm_auc},{ae_thresh_svm_auc},{p_thresh_lr_auc},{ae_thresh_lr_auc}\\n\")\n"
   ]
  },
  {
   "cell_type": "code",
   "execution_count": null,
   "id": "dangerous-azerbaijan",
   "metadata": {},
   "outputs": [],
   "source": [
    "import"
   ]
  },
  {
   "cell_type": "code",
   "execution_count": null,
   "id": "finnish-barcelona",
   "metadata": {},
   "outputs": [],
   "source": []
  }
 ],
 "metadata": {
  "kernelspec": {
   "display_name": "Python 3",
   "language": "python",
   "name": "python3"
  },
  "language_info": {
   "codemirror_mode": {
    "name": "ipython",
    "version": 3
   },
   "file_extension": ".py",
   "mimetype": "text/x-python",
   "name": "python",
   "nbconvert_exporter": "python",
   "pygments_lexer": "ipython3",
   "version": "3.7.9"
  }
 },
 "nbformat": 4,
 "nbformat_minor": 5
}
