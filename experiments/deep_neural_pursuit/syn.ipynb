{
 "cells": [
  {
   "cell_type": "code",
   "execution_count": 1,
   "id": "a0722119",
   "metadata": {},
   "outputs": [],
   "source": [
    "from syn_data import syn"
   ]
  },
  {
   "cell_type": "code",
   "execution_count": 2,
   "id": "2eda214e",
   "metadata": {},
   "outputs": [
    {
     "data": {
      "text/plain": [
       "'sas'"
      ]
     },
     "execution_count": 2,
     "metadata": {},
     "output_type": "execute_result"
    }
   ],
   "source": [
    "\"sas\""
   ]
  },
  {
   "cell_type": "code",
   "execution_count": 3,
   "id": "c5a6c60f",
   "metadata": {},
   "outputs": [],
   "source": [
    "X_train, X_test, y_train, y_test = syn(10)"
   ]
  },
  {
   "cell_type": "code",
   "execution_count": 6,
   "id": "b3d51a1a",
   "metadata": {},
   "outputs": [],
   "source": [
    "import numpy as np\n",
    "\n",
    "np.save(\"X_train\", X_train)\n",
    "np.save(\"y_train\", y_train)"
   ]
  }
 ],
 "metadata": {
  "kernelspec": {
   "display_name": "Python 3",
   "language": "python",
   "name": "python3"
  },
  "language_info": {
   "codemirror_mode": {
    "name": "ipython",
    "version": 3
   },
   "file_extension": ".py",
   "mimetype": "text/x-python",
   "name": "python",
   "nbconvert_exporter": "python",
   "pygments_lexer": "ipython3",
   "version": "3.7.9"
  }
 },
 "nbformat": 4,
 "nbformat_minor": 5
}
