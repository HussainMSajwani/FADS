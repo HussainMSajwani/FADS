{
 "cells": [
  {
   "cell_type": "code",
   "execution_count": 2,
   "id": "07523058",
   "metadata": {},
   "outputs": [],
   "source": [
    "import PyRKHSstats as rkhs"
   ]
  },
  {
   "cell_type": "code",
   "execution_count": 5,
   "id": "5e0bb033",
   "metadata": {},
   "outputs": [],
   "source": [
    "from __future__ import division\n",
    "import numpy as np\n",
    "from scipy.stats import gamma\n",
    "\n",
    "def rbf_dot(pattern1, pattern2, deg):\n",
    "\tsize1 = pattern1.shape\n",
    "\tsize2 = pattern2.shape\n",
    "\n",
    "\tG = np.sum(pattern1*pattern1, 1).reshape(size1[0],1)\n",
    "\tH = np.sum(pattern2*pattern2, 1).reshape(size2[0],1)\n",
    "\n",
    "\tQ = np.tile(G, (1, size2[0]))\n",
    "\tR = np.tile(H.T, (size1[0], 1))\n",
    "\n",
    "\tH = Q + R - 2* np.dot(pattern1, pattern2.T)\n",
    "\n",
    "\tH = np.exp(-H/2/(deg**2))\n",
    "\n",
    "\treturn H\n",
    "\n",
    "\n",
    "def hsic_gam(X, Y, alph = 0.5):\n",
    "\t\"\"\"\n",
    "\tX, Y are numpy vectors with row - sample, col - dim\n",
    "\talph is the significance level\n",
    "\tauto choose median to be the kernel width\n",
    "\t\"\"\"\n",
    "\tn = X.shape[0]\n",
    "\n",
    "\t# ----- width of X -----\n",
    "\tXmed = X\n",
    "\n",
    "\tG = np.sum(Xmed*Xmed, 1).reshape(n,1)\n",
    "\tQ = np.tile(G, (1, n) )\n",
    "\tR = np.tile(G.T, (n, 1) )\n",
    "\n",
    "\tdists = Q + R - 2* np.dot(Xmed, Xmed.T)\n",
    "\tdists = dists - np.tril(dists)\n",
    "\tdists = dists.reshape(n**2, 1)\n",
    "\n",
    "\twidth_x = np.sqrt( 0.5 * np.median(dists[dists>0]) )\n",
    "\t# ----- -----\n",
    "\n",
    "\t# ----- width of X -----\n",
    "\tYmed = Y\n",
    "\n",
    "\tG = np.sum(Ymed*Ymed, 1).reshape(n,1)\n",
    "\tQ = np.tile(G, (1, n) )\n",
    "\tR = np.tile(G.T, (n, 1) )\n",
    "\n",
    "\tdists = Q + R - 2* np.dot(Ymed, Ymed.T)\n",
    "\tdists = dists - np.tril(dists)\n",
    "\tdists = dists.reshape(n**2, 1)\n",
    "\n",
    "\twidth_y = np.sqrt( 0.5 * np.median(dists[dists>0]) )\n",
    "\t# ----- -----\n",
    "\n",
    "\tbone = np.ones((n, 1), dtype = float)\n",
    "\tH = np.identity(n) - np.ones((n,n), dtype = float) / n\n",
    "\n",
    "\tK = rbf_dot(X, X, width_x)\n",
    "\tL = rbf_dot(Y, Y, width_y)\n",
    "\n",
    "\tKc = np.dot(np.dot(H, K), H)\n",
    "\tLc = np.dot(np.dot(H, L), H)\n",
    "\n",
    "\ttestStat = np.sum(Kc.T * Lc) / n\n",
    "\n",
    "\tvarHSIC = (Kc * Lc / 6)**2\n",
    "\n",
    "\tvarHSIC = ( np.sum(varHSIC) - np.trace(varHSIC) ) / n / (n-1)\n",
    "\n",
    "\tvarHSIC = varHSIC * 72 * (n-4) * (n-5) / n / (n-1) / (n-2) / (n-3)\n",
    "\n",
    "\tK = K - np.diag(np.diag(K))\n",
    "\tL = L - np.diag(np.diag(L))\n",
    "\n",
    "\tmuX = np.dot(np.dot(bone.T, K), bone) / n / (n-1)\n",
    "\tmuY = np.dot(np.dot(bone.T, L), bone) / n / (n-1)\n",
    "\n",
    "\tmHSIC = (1 + muX * muY - muX - muY) / n\n",
    "\n",
    "\tal = mHSIC**2 / varHSIC\n",
    "\tbet = varHSIC*n / mHSIC\n",
    "\n",
    "\tthresh = gamma.ppf(1-alph, al, scale=bet)[0][0]\n",
    "\n",
    "\treturn (testStat, thresh)"
   ]
  },
  {
   "cell_type": "code",
   "execution_count": 7,
   "id": "a29b0dad",
   "metadata": {},
   "outputs": [],
   "source": [
    "from FADS.input import get_dset\n",
    "dset = get_dset(\"/home/shussain/Simulated_data/29072021/0.7/sim_10/sim_10/PS/output/\")"
   ]
  },
  {
   "cell_type": "code",
   "execution_count": 9,
   "id": "36b28644",
   "metadata": {},
   "outputs": [
    {
     "data": {
      "text/plain": [
       "(0.0009546617087157173, 0.19990107085471756)"
      ]
     },
     "execution_count": 9,
     "metadata": {},
     "output_type": "execute_result"
    }
   ],
   "source": [
    "hsic_gam(dset[\"X_train\"], dset[\"y_train\"])"
   ]
  }
 ],
 "metadata": {
  "kernelspec": {
   "display_name": "Python 3",
   "language": "python",
   "name": "python3"
  },
  "language_info": {
   "codemirror_mode": {
    "name": "ipython",
    "version": 3
   },
   "file_extension": ".py",
   "mimetype": "text/x-python",
   "name": "python",
   "nbconvert_exporter": "python",
   "pygments_lexer": "ipython3",
   "version": "3.7.9"
  }
 },
 "nbformat": 4,
 "nbformat_minor": 5
}
