{
 "cells": [
  {
   "cell_type": "code",
   "execution_count": 8,
   "id": "fd279fd7",
   "metadata": {},
   "outputs": [
    {
     "data": {
      "text/html": [
       "<div>\n",
       "<style scoped>\n",
       "    .dataframe tbody tr th:only-of-type {\n",
       "        vertical-align: middle;\n",
       "    }\n",
       "\n",
       "    .dataframe tbody tr th {\n",
       "        vertical-align: top;\n",
       "    }\n",
       "\n",
       "    .dataframe thead th {\n",
       "        text-align: right;\n",
       "    }\n",
       "</style>\n",
       "<table border=\"1\" class=\"dataframe\">\n",
       "  <thead>\n",
       "    <tr style=\"text-align: right;\">\n",
       "      <th></th>\n",
       "      <th>mem</th>\n",
       "      <th>ram</th>\n",
       "      <th>time</th>\n",
       "    </tr>\n",
       "  </thead>\n",
       "  <tbody>\n",
       "    <tr>\n",
       "      <th>0</th>\n",
       "      <td>MEM</td>\n",
       "      <td>1.992188</td>\n",
       "      <td>1.630171e+09</td>\n",
       "    </tr>\n",
       "    <tr>\n",
       "      <th>1</th>\n",
       "      <td>MEM</td>\n",
       "      <td>15.226562</td>\n",
       "      <td>1.630171e+09</td>\n",
       "    </tr>\n",
       "    <tr>\n",
       "      <th>2</th>\n",
       "      <td>MEM</td>\n",
       "      <td>23.015625</td>\n",
       "      <td>1.630171e+09</td>\n",
       "    </tr>\n",
       "    <tr>\n",
       "      <th>3</th>\n",
       "      <td>MEM</td>\n",
       "      <td>29.367188</td>\n",
       "      <td>1.630171e+09</td>\n",
       "    </tr>\n",
       "    <tr>\n",
       "      <th>4</th>\n",
       "      <td>MEM</td>\n",
       "      <td>34.832031</td>\n",
       "      <td>1.630171e+09</td>\n",
       "    </tr>\n",
       "    <tr>\n",
       "      <th>...</th>\n",
       "      <td>...</td>\n",
       "      <td>...</td>\n",
       "      <td>...</td>\n",
       "    </tr>\n",
       "    <tr>\n",
       "      <th>10663</th>\n",
       "      <td>MEM</td>\n",
       "      <td>0.000000</td>\n",
       "      <td>1.630172e+09</td>\n",
       "    </tr>\n",
       "    <tr>\n",
       "      <th>10664</th>\n",
       "      <td>MEM</td>\n",
       "      <td>0.000000</td>\n",
       "      <td>1.630172e+09</td>\n",
       "    </tr>\n",
       "    <tr>\n",
       "      <th>10665</th>\n",
       "      <td>MEM</td>\n",
       "      <td>0.000000</td>\n",
       "      <td>1.630172e+09</td>\n",
       "    </tr>\n",
       "    <tr>\n",
       "      <th>10666</th>\n",
       "      <td>MEM</td>\n",
       "      <td>0.000000</td>\n",
       "      <td>1.630172e+09</td>\n",
       "    </tr>\n",
       "    <tr>\n",
       "      <th>10667</th>\n",
       "      <td>MEM</td>\n",
       "      <td>0.000000</td>\n",
       "      <td>1.630172e+09</td>\n",
       "    </tr>\n",
       "  </tbody>\n",
       "</table>\n",
       "<p>10668 rows × 3 columns</p>\n",
       "</div>"
      ],
      "text/plain": [
       "       mem        ram          time\n",
       "0      MEM   1.992188  1.630171e+09\n",
       "1      MEM  15.226562  1.630171e+09\n",
       "2      MEM  23.015625  1.630171e+09\n",
       "3      MEM  29.367188  1.630171e+09\n",
       "4      MEM  34.832031  1.630171e+09\n",
       "...    ...        ...           ...\n",
       "10663  MEM   0.000000  1.630172e+09\n",
       "10664  MEM   0.000000  1.630172e+09\n",
       "10665  MEM   0.000000  1.630172e+09\n",
       "10666  MEM   0.000000  1.630172e+09\n",
       "10667  MEM   0.000000  1.630172e+09\n",
       "\n",
       "[10668 rows x 3 columns]"
      ]
     },
     "execution_count": 8,
     "metadata": {},
     "output_type": "execute_result"
    }
   ],
   "source": [
    "import pandas as pd\n",
    "import matplotlib.pyplot as plt\n",
    "df=pd.read_csv(\"mprofile_20210828212334.dat\", delimiter=\" \", skiprows=1, names=[\"mem\", \"ram\", \"time\"])\n",
    "df"
   ]
  },
  {
   "cell_type": "code",
   "execution_count": 49,
   "id": "43bec915",
   "metadata": {},
   "outputs": [
    {
     "name": "stdout",
     "output_type": "stream",
     "text": [
      "24.766050570624998 14.999491663773854\n",
      "27.13325678450348 18.318953331311544\n",
      "26.185758258621515 17.469528333346048\n",
      "27.658255395993038 18.503031667073568\n",
      "26.71233383481598 17.458888332049053\n",
      "21.972449130184017 13.672064999739328\n",
      "17.354109592684015 10.98992999792099\n",
      "17.842698720496518 10.78507666985194\n",
      "27.97308744419098 18.646048335234322\n",
      "25.125705319118037 16.70135999917984\n",
      "18.90790444713196 11.622293333212534\n",
      "26.28941202950348 17.852661669254303\n",
      "26.868908128621516 18.339138333002726\n",
      "28.65664691575348 19.22166666587194\n",
      "27.500886474631958 18.15572999715805\n",
      "26.238772989118036 17.744195000330606\n",
      "26.55440785637848 17.76536833445231\n",
      "19.403600162315982 11.375766666730245\n",
      "22.77031201325348 14.826230001449584\n"
     ]
    }
   ],
   "source": [
    "from glob import glob\n",
    "import numpy as np\n",
    "\n",
    "mems = []\n",
    "mins = []\n",
    "\n",
    "dirs = glob(\"mprofile_2021*\")\n",
    "for d in dirs:\n",
    "    df=pd.read_csv(d, delimiter=\" \", skiprows=1, names=[\"mem\", \"ram\", \"time\"])\n",
    "    max_mem = 0.00104858*df[\"ram\"].max()\n",
    "    minutes = (df[\"time\"].max() - df[\"time\"].min())/60\n",
    "    \n",
    "    mems.append(max_mem)\n",
    "    mins.append(minutes)\n",
    "    \n",
    "    print(max_mem, minutes)"
   ]
  },
  {
   "cell_type": "code",
   "execution_count": 50,
   "id": "485d7747",
   "metadata": {},
   "outputs": [
    {
     "data": {
      "text/plain": [
       "(24.521818740417945, 3.5652537161093023)"
      ]
     },
     "execution_count": 50,
     "metadata": {},
     "output_type": "execute_result"
    }
   ],
   "source": [
    "np.mean(mems), np.std(mems)"
   ]
  },
  {
   "cell_type": "code",
   "execution_count": 51,
   "id": "b9d52075",
   "metadata": {},
   "outputs": [
    {
     "data": {
      "text/plain": [
       "(16.023548596365412, 2.8483107251404025)"
      ]
     },
     "execution_count": 51,
     "metadata": {},
     "output_type": "execute_result"
    }
   ],
   "source": [
    "np.mean(mins), np.std(mins)"
   ]
  },
  {
   "cell_type": "code",
   "execution_count": 52,
   "id": "2e3ce535",
   "metadata": {},
   "outputs": [
    {
     "data": {
      "text/plain": [
       "(19.22166666587194, 10.78507666985194)"
      ]
     },
     "execution_count": 52,
     "metadata": {},
     "output_type": "execute_result"
    }
   ],
   "source": [
    "np.max(mins), np.min(mins)"
   ]
  },
  {
   "cell_type": "code",
   "execution_count": 46,
   "id": "e4da8694",
   "metadata": {},
   "outputs": [
    {
     "data": {
      "text/html": [
       "<div>\n",
       "<style scoped>\n",
       "    .dataframe tbody tr th:only-of-type {\n",
       "        vertical-align: middle;\n",
       "    }\n",
       "\n",
       "    .dataframe tbody tr th {\n",
       "        vertical-align: top;\n",
       "    }\n",
       "\n",
       "    .dataframe thead th {\n",
       "        text-align: right;\n",
       "    }\n",
       "</style>\n",
       "<table border=\"1\" class=\"dataframe\">\n",
       "  <thead>\n",
       "    <tr style=\"text-align: right;\">\n",
       "      <th></th>\n",
       "      <th>ram</th>\n",
       "      <th>time</th>\n",
       "    </tr>\n",
       "  </thead>\n",
       "  <tbody>\n",
       "    <tr>\n",
       "      <th>count</th>\n",
       "      <td>8859.000000</td>\n",
       "      <td>8.859000e+03</td>\n",
       "    </tr>\n",
       "    <tr>\n",
       "      <th>mean</th>\n",
       "      <td>13101.952597</td>\n",
       "      <td>1.630180e+09</td>\n",
       "    </tr>\n",
       "    <tr>\n",
       "      <th>std</th>\n",
       "      <td>5222.163457</td>\n",
       "      <td>2.568315e+02</td>\n",
       "    </tr>\n",
       "    <tr>\n",
       "      <th>min</th>\n",
       "      <td>0.000000</td>\n",
       "      <td>1.630179e+09</td>\n",
       "    </tr>\n",
       "    <tr>\n",
       "      <th>25%</th>\n",
       "      <td>9630.328125</td>\n",
       "      <td>1.630179e+09</td>\n",
       "    </tr>\n",
       "    <tr>\n",
       "      <th>50%</th>\n",
       "      <td>13290.707031</td>\n",
       "      <td>1.630180e+09</td>\n",
       "    </tr>\n",
       "    <tr>\n",
       "      <th>75%</th>\n",
       "      <td>17301.996094</td>\n",
       "      <td>1.630180e+09</td>\n",
       "    </tr>\n",
       "    <tr>\n",
       "      <th>max</th>\n",
       "      <td>21715.378906</td>\n",
       "      <td>1.630180e+09</td>\n",
       "    </tr>\n",
       "  </tbody>\n",
       "</table>\n",
       "</div>"
      ],
      "text/plain": [
       "                ram          time\n",
       "count   8859.000000  8.859000e+03\n",
       "mean   13101.952597  1.630180e+09\n",
       "std     5222.163457  2.568315e+02\n",
       "min        0.000000  1.630179e+09\n",
       "25%     9630.328125  1.630179e+09\n",
       "50%    13290.707031  1.630180e+09\n",
       "75%    17301.996094  1.630180e+09\n",
       "max    21715.378906  1.630180e+09"
      ]
     },
     "execution_count": 46,
     "metadata": {},
     "output_type": "execute_result"
    }
   ],
   "source": [
    "df.describe()"
   ]
  },
  {
   "cell_type": "code",
   "execution_count": 53,
   "id": "3acd9902",
   "metadata": {},
   "outputs": [
    {
     "data": {
      "text/plain": [
       "(array([2., 2., 0., 0., 2., 0., 2., 3., 5., 3.]),\n",
       " array([17.35410959, 18.48436332, 19.61461706, 20.74487079, 21.87512452,\n",
       "        23.00537825, 24.13563199, 25.26588572, 26.39613945, 27.52639318,\n",
       "        28.65664692]),\n",
       " <BarContainer object of 10 artists>)"
      ]
     },
     "execution_count": 53,
     "metadata": {},
     "output_type": "execute_result"
    },
    {
     "data": {
      "image/png": "[encoded data removed]",
      "text/plain": [
       "<Figure size 432x288 with 1 Axes>"
      ]
     },
     "metadata": {
      "needs_background": "light"
     },
     "output_type": "display_data"
    }
   ],
   "source": [
    "plt.hist(mems)"
   ]
  },
  {
   "cell_type": "code",
   "execution_count": 54,
   "id": "97bdffca",
   "metadata": {},
   "outputs": [
    {
     "data": {
      "text/plain": [
       "(array([4., 0., 0., 1., 2., 0., 0., 3., 6., 3.]),\n",
       " array([10.78507667, 11.62873567, 12.47239467, 13.31605367, 14.15971267,\n",
       "        15.00337167, 15.84703067, 16.69068967, 17.53434867, 18.37800767,\n",
       "        19.22166667]),\n",
       " <BarContainer object of 10 artists>)"
      ]
     },
     "execution_count": 54,
     "metadata": {},
     "output_type": "execute_result"
    },
    {
     "data": {
      "image/png": "[encoded data removed]",
      "text/plain": [
       "<Figure size 432x288 with 1 Axes>"
      ]
     },
     "metadata": {
      "needs_background": "light"
     },
     "output_type": "display_data"
    }
   ],
   "source": [
    "plt.hist(mins)"
   ]
  },
  {
   "cell_type": "code",
   "execution_count": 10,
   "id": "8ba3f3ec",
   "metadata": {},
   "outputs": [
    {
     "data": {
      "text/plain": [
       "[<matplotlib.lines.Line2D at 0x7f46d413e150>]"
      ]
     },
     "execution_count": 10,
     "metadata": {},
     "output_type": "execute_result"
    },
    {
     "data": {
      "image/png": "[encoded data removed]",
      "text/plain": [
       "<Figure size 432x288 with 1 Axes>"
      ]
     },
     "metadata": {
      "needs_background": "light"
     },
     "output_type": "display_data"
    }
   ],
   "source": [
    "plt.plot(df[\"ram\"])"
   ]
  },
  {
   "cell_type": "code",
   "execution_count": 12,
   "id": "84226392",
   "metadata": {},
   "outputs": [
    {
     "data": {
      "text/html": [
       "<div>\n",
       "<style scoped>\n",
       "    .dataframe tbody tr th:only-of-type {\n",
       "        vertical-align: middle;\n",
       "    }\n",
       "\n",
       "    .dataframe tbody tr th {\n",
       "        vertical-align: top;\n",
       "    }\n",
       "\n",
       "    .dataframe thead th {\n",
       "        text-align: right;\n",
       "    }\n",
       "</style>\n",
       "<table border=\"1\" class=\"dataframe\">\n",
       "  <thead>\n",
       "    <tr style=\"text-align: right;\">\n",
       "      <th></th>\n",
       "      <th>ram</th>\n",
       "      <th>time</th>\n",
       "    </tr>\n",
       "  </thead>\n",
       "  <tbody>\n",
       "    <tr>\n",
       "      <th>count</th>\n",
       "      <td>10668.000000</td>\n",
       "      <td>1.066800e+04</td>\n",
       "    </tr>\n",
       "    <tr>\n",
       "      <th>mean</th>\n",
       "      <td>14747.912906</td>\n",
       "      <td>1.630172e+09</td>\n",
       "    </tr>\n",
       "    <tr>\n",
       "      <th>std</th>\n",
       "      <td>6115.687917</td>\n",
       "      <td>3.092542e+02</td>\n",
       "    </tr>\n",
       "    <tr>\n",
       "      <th>min</th>\n",
       "      <td>0.000000</td>\n",
       "      <td>1.630171e+09</td>\n",
       "    </tr>\n",
       "    <tr>\n",
       "      <th>25%</th>\n",
       "      <td>11131.015625</td>\n",
       "      <td>1.630172e+09</td>\n",
       "    </tr>\n",
       "    <tr>\n",
       "      <th>50%</th>\n",
       "      <td>13888.855469</td>\n",
       "      <td>1.630172e+09</td>\n",
       "    </tr>\n",
       "    <tr>\n",
       "      <th>75%</th>\n",
       "      <td>19805.410156</td>\n",
       "      <td>1.630172e+09</td>\n",
       "    </tr>\n",
       "    <tr>\n",
       "      <th>max</th>\n",
       "      <td>25071.441406</td>\n",
       "      <td>1.630172e+09</td>\n",
       "    </tr>\n",
       "  </tbody>\n",
       "</table>\n",
       "</div>"
      ],
      "text/plain": [
       "                ram          time\n",
       "count  10668.000000  1.066800e+04\n",
       "mean   14747.912906  1.630172e+09\n",
       "std     6115.687917  3.092542e+02\n",
       "min        0.000000  1.630171e+09\n",
       "25%    11131.015625  1.630172e+09\n",
       "50%    13888.855469  1.630172e+09\n",
       "75%    19805.410156  1.630172e+09\n",
       "max    25071.441406  1.630172e+09"
      ]
     },
     "execution_count": 12,
     "metadata": {},
     "output_type": "execute_result"
    }
   ],
   "source": [
    "df.describe()"
   ]
  },
  {
   "cell_type": "code",
   "execution_count": 14,
   "id": "e93d894c",
   "metadata": {},
   "outputs": [
    {
     "data": {
      "text/plain": [
       "26.28941202950348"
      ]
     },
     "execution_count": 14,
     "metadata": {},
     "output_type": "execute_result"
    }
   ],
   "source": [
    "0.00104858*25071.441406"
   ]
  },
  {
   "cell_type": "code",
   "execution_count": 18,
   "id": "3f5f6528",
   "metadata": {},
   "outputs": [],
   "source": [
    "import time "
   ]
  },
  {
   "cell_type": "code",
   "execution_count": 22,
   "id": "a6dc545e",
   "metadata": {},
   "outputs": [
    {
     "data": {
      "text/plain": [
       "17.852661669254303"
      ]
     },
     "execution_count": 22,
     "metadata": {},
     "output_type": "execute_result"
    }
   ],
   "source": [
    "(df[\"time\"].max() - df[\"time\"].min())/60"
   ]
  },
  {
   "cell_type": "code",
   "execution_count": 23,
   "id": "d49ab903",
   "metadata": {},
   "outputs": [
    {
     "data": {
      "text/html": [
       "<div>\n",
       "<style scoped>\n",
       "    .dataframe tbody tr th:only-of-type {\n",
       "        vertical-align: middle;\n",
       "    }\n",
       "\n",
       "    .dataframe tbody tr th {\n",
       "        vertical-align: top;\n",
       "    }\n",
       "\n",
       "    .dataframe thead th {\n",
       "        text-align: right;\n",
       "    }\n",
       "</style>\n",
       "<table border=\"1\" class=\"dataframe\">\n",
       "  <thead>\n",
       "    <tr style=\"text-align: right;\">\n",
       "      <th></th>\n",
       "      <th>ram</th>\n",
       "      <th>time</th>\n",
       "    </tr>\n",
       "  </thead>\n",
       "  <tbody>\n",
       "    <tr>\n",
       "      <th>count</th>\n",
       "      <td>10668.000000</td>\n",
       "      <td>1.066800e+04</td>\n",
       "    </tr>\n",
       "    <tr>\n",
       "      <th>mean</th>\n",
       "      <td>14747.912906</td>\n",
       "      <td>1.630172e+09</td>\n",
       "    </tr>\n",
       "    <tr>\n",
       "      <th>std</th>\n",
       "      <td>6115.687917</td>\n",
       "      <td>3.092542e+02</td>\n",
       "    </tr>\n",
       "    <tr>\n",
       "      <th>min</th>\n",
       "      <td>0.000000</td>\n",
       "      <td>1.630171e+09</td>\n",
       "    </tr>\n",
       "    <tr>\n",
       "      <th>25%</th>\n",
       "      <td>11131.015625</td>\n",
       "      <td>1.630172e+09</td>\n",
       "    </tr>\n",
       "    <tr>\n",
       "      <th>50%</th>\n",
       "      <td>13888.855469</td>\n",
       "      <td>1.630172e+09</td>\n",
       "    </tr>\n",
       "    <tr>\n",
       "      <th>75%</th>\n",
       "      <td>19805.410156</td>\n",
       "      <td>1.630172e+09</td>\n",
       "    </tr>\n",
       "    <tr>\n",
       "      <th>max</th>\n",
       "      <td>25071.441406</td>\n",
       "      <td>1.630172e+09</td>\n",
       "    </tr>\n",
       "  </tbody>\n",
       "</table>\n",
       "</div>"
      ],
      "text/plain": [
       "                ram          time\n",
       "count  10668.000000  1.066800e+04\n",
       "mean   14747.912906  1.630172e+09\n",
       "std     6115.687917  3.092542e+02\n",
       "min        0.000000  1.630171e+09\n",
       "25%    11131.015625  1.630172e+09\n",
       "50%    13888.855469  1.630172e+09\n",
       "75%    19805.410156  1.630172e+09\n",
       "max    25071.441406  1.630172e+09"
      ]
     },
     "execution_count": 23,
     "metadata": {},
     "output_type": "execute_result"
    }
   ],
   "source": [
    "df.describe()"
   ]
  }
 ],
 "metadata": {
  "kernelspec": {
   "display_name": "Python 3",
   "language": "python",
   "name": "python3"
  },
  "language_info": {
   "codemirror_mode": {
    "name": "ipython",
    "version": 3
   },
   "file_extension": ".py",
   "mimetype": "text/x-python",
   "name": "python",
   "nbconvert_exporter": "python",
   "pygments_lexer": "ipython3",
   "version": "3.7.9"
  }
 },
 "nbformat": 4,
 "nbformat_minor": 5
}
