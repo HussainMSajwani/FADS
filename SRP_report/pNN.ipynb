{
 "cells": [
  {
   "cell_type": "code",
   "execution_count": 1,
   "id": "other-truth",
   "metadata": {},
   "outputs": [],
   "source": [
    "from FADS_SRP.models import compiled_autoencoder, supervised_autoencoder, nn, lr\n",
    "from FADS_SRP.input import sorted_listdir, get_dsets_\n",
    "from FADS_SRP.thresholding import manhattan_plot, get_SNPs\n",
    "from time import sleep\n",
    "from tqdm import tqdm\n",
    "import tensorflow as tf\n",
    "import numpy as np\n",
    "import matplotlib.pyplot as plt"
   ]
  },
  {
   "cell_type": "code",
   "execution_count": 2,
   "id": "domestic-minority",
   "metadata": {},
   "outputs": [
    {
     "name": "stdout",
     "output_type": "stream",
     "text": [
      "/home/shussain/Simulated_data/08112020/cSNPs_10 True\n"
     ]
    },
    {
     "data": {
      "text/plain": [
       "{'X_train': array([[0, 1, 0, ..., 0, 0, 0],\n",
       "        [0, 0, 0, ..., 1, 0, 0],\n",
       "        [0, 1, 0, ..., 0, 0, 0],\n",
       "        ...,\n",
       "        [1, 1, 0, ..., 2, 0, 0],\n",
       "        [1, 0, 0, ..., 0, 0, 0],\n",
       "        [1, 0, 0, ..., 1, 0, 0]], dtype=int8),\n",
       " 'y_train': array([[1., 0.],\n",
       "        [1., 0.],\n",
       "        [1., 0.],\n",
       "        ...,\n",
       "        [1., 0.],\n",
       "        [0., 1.],\n",
       "        [0., 1.]], dtype=float32),\n",
       " 'X_test': array([[1, 1, 0, ..., 1, 0, 0],\n",
       "        [0, 0, 0, ..., 1, 0, 0],\n",
       "        [2, 1, 0, ..., 1, 0, 0],\n",
       "        ...,\n",
       "        [1, 1, 0, ..., 1, 0, 0],\n",
       "        [1, 0, 1, ..., 1, 0, 0],\n",
       "        [2, 2, 0, ..., 1, 0, 0]], dtype=int8),\n",
       " 'y_test': array([[0., 1.],\n",
       "        [0., 1.],\n",
       "        [0., 1.],\n",
       "        ...,\n",
       "        [0., 1.],\n",
       "        [0., 1.],\n",
       "        [0., 1.]], dtype=float32),\n",
       " 'ct':       Unnamed: 0        SNP  causal  logistic_p\n",
       " 0              0      SNP_1       0    0.363150\n",
       " 1              1      SNP_2       0    0.428463\n",
       " 2              2      SNP_3       0    0.660492\n",
       " 3              3      SNP_4       0    0.863697\n",
       " 4              4      SNP_5       0    0.612210\n",
       " ...          ...        ...     ...         ...\n",
       " 9995        9995   SNP_9996       0    0.019885\n",
       " 9996        9996   SNP_9997       0    0.870429\n",
       " 9997        9997   SNP_9998       0    0.764904\n",
       " 9998        9998   SNP_9999       0    0.950782\n",
       " 9999        9999  SNP_10000       0    0.800689\n",
       " \n",
       " [10000 rows x 4 columns],\n",
       " 'true_causals': ['SNP_1722',\n",
       "  'SNP_1833',\n",
       "  'SNP_5393',\n",
       "  'SNP_6023',\n",
       "  'SNP_6448',\n",
       "  'SNP_8039',\n",
       "  'SNP_2438',\n",
       "  'SNP_2805',\n",
       "  'SNP_6104',\n",
       "  'SNP_9226']}"
      ]
     },
     "execution_count": 2,
     "metadata": {},
     "output_type": "execute_result"
    }
   ],
   "source": [
    "P = \"/home/shussain/Simulated_data/08112020/cSNPs_10\"\n",
    "dset = get_dsets_(f\"{P}\")\n",
    "\n",
    "dset"
   ]
  },
  {
   "cell_type": "code",
   "execution_count": 3,
   "id": "impossible-service",
   "metadata": {},
   "outputs": [
    {
     "data": {
      "image/png": "[encoded data removed]",
      "text/plain": [
       "<Figure size 432x288 with 1 Axes>"
      ]
     },
     "metadata": {
      "needs_background": "light"
     },
     "output_type": "display_data"
    }
   ],
   "source": [
    "manhattan_plot(dset[\"ct\"])"
   ]
  },
  {
   "cell_type": "code",
   "execution_count": 41,
   "id": "pretty-apple",
   "metadata": {},
   "outputs": [
    {
     "data": {
      "text/plain": [
       "(240, 1000)"
      ]
     },
     "execution_count": 41,
     "metadata": {},
     "output_type": "execute_result"
    }
   ],
   "source": [
    "dset[\"X_train\"].shape"
   ]
  },
  {
   "cell_type": "code",
   "execution_count": 3,
   "id": "ideal-spray",
   "metadata": {},
   "outputs": [],
   "source": [
    "SNPs = get_SNPs(dset[\"ct\"], 1e-10)"
   ]
  },
  {
   "cell_type": "code",
   "execution_count": 12,
   "id": "precious-intake",
   "metadata": {},
   "outputs": [
    {
     "data": {
      "text/plain": [
       "array([1721, 1832, 2437, 2804, 5392, 6022, 6103, 6447, 8038, 9225])"
      ]
     },
     "execution_count": 12,
     "metadata": {},
     "output_type": "execute_result"
    }
   ],
   "source": [
    "SNPs"
   ]
  },
  {
   "cell_type": "code",
   "execution_count": 13,
   "id": "antique-chambers",
   "metadata": {},
   "outputs": [
    {
     "data": {
      "text/html": [
       "<div>\n",
       "<style scoped>\n",
       "    .dataframe tbody tr th:only-of-type {\n",
       "        vertical-align: middle;\n",
       "    }\n",
       "\n",
       "    .dataframe tbody tr th {\n",
       "        vertical-align: top;\n",
       "    }\n",
       "\n",
       "    .dataframe thead th {\n",
       "        text-align: right;\n",
       "    }\n",
       "</style>\n",
       "<table border=\"1\" class=\"dataframe\">\n",
       "  <thead>\n",
       "    <tr style=\"text-align: right;\">\n",
       "      <th></th>\n",
       "      <th>Unnamed: 0</th>\n",
       "      <th>SNP</th>\n",
       "      <th>causal</th>\n",
       "      <th>logistic_p</th>\n",
       "    </tr>\n",
       "  </thead>\n",
       "  <tbody>\n",
       "    <tr>\n",
       "      <th>1721</th>\n",
       "      <td>1721</td>\n",
       "      <td>SNP_1722</td>\n",
       "      <td>1</td>\n",
       "      <td>2.466468e-121</td>\n",
       "    </tr>\n",
       "    <tr>\n",
       "      <th>1832</th>\n",
       "      <td>1832</td>\n",
       "      <td>SNP_1833</td>\n",
       "      <td>1</td>\n",
       "      <td>1.000000e-100</td>\n",
       "    </tr>\n",
       "    <tr>\n",
       "      <th>2437</th>\n",
       "      <td>2437</td>\n",
       "      <td>SNP_2438</td>\n",
       "      <td>1</td>\n",
       "      <td>7.156261e-13</td>\n",
       "    </tr>\n",
       "    <tr>\n",
       "      <th>2804</th>\n",
       "      <td>2804</td>\n",
       "      <td>SNP_2805</td>\n",
       "      <td>1</td>\n",
       "      <td>3.805537e-39</td>\n",
       "    </tr>\n",
       "    <tr>\n",
       "      <th>5392</th>\n",
       "      <td>5392</td>\n",
       "      <td>SNP_5393</td>\n",
       "      <td>1</td>\n",
       "      <td>2.778712e-41</td>\n",
       "    </tr>\n",
       "    <tr>\n",
       "      <th>6022</th>\n",
       "      <td>6022</td>\n",
       "      <td>SNP_6023</td>\n",
       "      <td>1</td>\n",
       "      <td>1.000000e-100</td>\n",
       "    </tr>\n",
       "    <tr>\n",
       "      <th>6103</th>\n",
       "      <td>6103</td>\n",
       "      <td>SNP_6104</td>\n",
       "      <td>1</td>\n",
       "      <td>1.376605e-141</td>\n",
       "    </tr>\n",
       "    <tr>\n",
       "      <th>6447</th>\n",
       "      <td>6447</td>\n",
       "      <td>SNP_6448</td>\n",
       "      <td>1</td>\n",
       "      <td>2.812018e-254</td>\n",
       "    </tr>\n",
       "    <tr>\n",
       "      <th>8038</th>\n",
       "      <td>8038</td>\n",
       "      <td>SNP_8039</td>\n",
       "      <td>1</td>\n",
       "      <td>1.696465e-126</td>\n",
       "    </tr>\n",
       "    <tr>\n",
       "      <th>9225</th>\n",
       "      <td>9225</td>\n",
       "      <td>SNP_9226</td>\n",
       "      <td>1</td>\n",
       "      <td>4.836954e-184</td>\n",
       "    </tr>\n",
       "  </tbody>\n",
       "</table>\n",
       "</div>"
      ],
      "text/plain": [
       "      Unnamed: 0       SNP  causal     logistic_p\n",
       "1721        1721  SNP_1722       1  2.466468e-121\n",
       "1832        1832  SNP_1833       1  1.000000e-100\n",
       "2437        2437  SNP_2438       1   7.156261e-13\n",
       "2804        2804  SNP_2805       1   3.805537e-39\n",
       "5392        5392  SNP_5393       1   2.778712e-41\n",
       "6022        6022  SNP_6023       1  1.000000e-100\n",
       "6103        6103  SNP_6104       1  1.376605e-141\n",
       "6447        6447  SNP_6448       1  2.812018e-254\n",
       "8038        8038  SNP_8039       1  1.696465e-126\n",
       "9225        9225  SNP_9226       1  4.836954e-184"
      ]
     },
     "execution_count": 13,
     "metadata": {},
     "output_type": "execute_result"
    }
   ],
   "source": [
    "dset[\"ct\"].query(\"causal == 1\")"
   ]
  },
  {
   "cell_type": "code",
   "execution_count": 4,
   "id": "executive-refund",
   "metadata": {},
   "outputs": [
    {
     "data": {
      "text/plain": [
       "array([[1721, 'SNP_1722', 1, 2.466468415060848e-121],\n",
       "       [1832, 'SNP_1833', 1, 1e-100],\n",
       "       [2437, 'SNP_2438', 1, 7.156260886733489e-13],\n",
       "       [2804, 'SNP_2805', 1, 3.805537496538322e-39],\n",
       "       [5392, 'SNP_5393', 1, 2.778711979773933e-41],\n",
       "       [6022, 'SNP_6023', 1, 1e-100],\n",
       "       [6103, 'SNP_6104', 1, 1.376605454416181e-141],\n",
       "       [6447, 'SNP_6448', 1, 2.8120176703486778e-254],\n",
       "       [8038, 'SNP_8039', 1, 1.6964652764621654e-126],\n",
       "       [9225, 'SNP_9226', 1, 4.83695404968062e-184]], dtype=object)"
      ]
     },
     "execution_count": 4,
     "metadata": {},
     "output_type": "execute_result"
    }
   ],
   "source": [
    "dset[\"ct\"].values[SNPs,]"
   ]
  },
  {
   "cell_type": "code",
   "execution_count": 6,
   "id": "purple-opposition",
   "metadata": {},
   "outputs": [
    {
     "name": "stderr",
     "output_type": "stream",
     "text": [
      "100%|██████████| 7/7 [05:20<00:00, 45.82s/it]\n"
     ]
    }
   ],
   "source": [
    "n = [500, 1000, 3000, 6000, 10000, 12000, 16000]\n",
    "aucs = []\n",
    "for i in tqdm(n):\n",
    "    index = np.random.randint(16000, size=i)\n",
    "    hist, model = lr(dset[\"X_train\"][index, :][:, SNPs], dset[\"y_train\"][index, :])\n",
    "    for i in hist.keys():\n",
    "        if i.startswith(\"val_auc\"):\n",
    "            key = i \n",
    "            \n",
    "    aucs.append(hist[key])"
   ]
  },
  {
   "cell_type": "code",
   "execution_count": 21,
   "id": "plain-revolution",
   "metadata": {},
   "outputs": [
    {
     "ename": "IndexError",
     "evalue": "shape mismatch: indexing arrays could not be broadcast together with shapes (500,) (10,) ",
     "output_type": "error",
     "traceback": [
      "\u001b[0;31m---------------------------------------------------------------------------\u001b[0m",
      "\u001b[0;31mIndexError\u001b[0m                                Traceback (most recent call last)",
      "\u001b[0;32m<ipython-input-21-a9cd454f76c6>\u001b[0m in \u001b[0;36m<module>\u001b[0;34m\u001b[0m\n\u001b[0;32m----> 1\u001b[0;31m \u001b[0mdset\u001b[0m\u001b[0;34m[\u001b[0m\u001b[0;34m\"X_train\"\u001b[0m\u001b[0;34m]\u001b[0m\u001b[0;34m[\u001b[0m\u001b[0mindex\u001b[0m\u001b[0;34m,\u001b[0m \u001b[0mSNPs\u001b[0m\u001b[0;34m]\u001b[0m\u001b[0;34m\u001b[0m\u001b[0;34m\u001b[0m\u001b[0m\n\u001b[0m",
      "\u001b[0;31mIndexError\u001b[0m: shape mismatch: indexing arrays could not be broadcast together with shapes (500,) (10,) "
     ]
    }
   ],
   "source": [
    "dset[\"X_train\"][index, SNPs]"
   ]
  },
  {
   "cell_type": "code",
   "execution_count": null,
   "id": "juvenile-morocco",
   "metadata": {},
   "outputs": [],
   "source": []
  },
  {
   "cell_type": "code",
   "execution_count": 7,
   "id": "running-final",
   "metadata": {},
   "outputs": [
    {
     "data": {
      "text/plain": [
       "[<matplotlib.lines.Line2D at 0x7fcdb80c2d50>]"
      ]
     },
     "execution_count": 7,
     "metadata": {},
     "output_type": "execute_result"
    },
    {
     "data": {
      "image/png": "[encoded data removed]",
      "text/plain": [
       "<Figure size 432x288 with 1 Axes>"
      ]
     },
     "metadata": {
      "needs_background": "light"
     },
     "output_type": "display_data"
    }
   ],
   "source": [
    "plt.plot(n, [k[-1] for k in aucs])"
   ]
  },
  {
   "cell_type": "code",
   "execution_count": 50,
   "id": "acute-terrorist",
   "metadata": {},
   "outputs": [
    {
     "data": {
      "text/plain": [
       "dict_keys(['loss', 'auc_2', 'val_loss', 'val_auc_2'])"
      ]
     },
     "execution_count": 50,
     "metadata": {},
     "output_type": "execute_result"
    }
   ],
   "source": [
    "hist.history.keys()"
   ]
  }
 ],
 "metadata": {
  "kernelspec": {
   "display_name": "Python 3",
   "language": "python",
   "name": "python3"
  },
  "language_info": {
   "codemirror_mode": {
    "name": "ipython",
    "version": 3
   },
   "file_extension": ".py",
   "mimetype": "text/x-python",
   "name": "python",
   "nbconvert_exporter": "python",
   "pygments_lexer": "ipython3",
   "version": "3.7.9"
  }
 },
 "nbformat": 4,
 "nbformat_minor": 5
}
